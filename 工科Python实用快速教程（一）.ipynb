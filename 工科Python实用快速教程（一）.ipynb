{
 "cells": [
  {
   "cell_type": "markdown",
   "metadata": {},
   "source": [
    "# 前言：这是一门什么样的课程，又适合谁？\n",
    "\n",
    "这不是一门深入介绍Python语言的课程，如果想要成为职业编程人员，我所了解的知识是无法帮到你的。但是如果你刚上大学不久，只了通过学校的课程了解了一门计算机语言，却对编程产生各种想法，想要通过掌握Python提高自己的研究和工作效率，那么我会努力帮你。我脑子里想的是怎么让你能快速上手，最好可以现学现卖，所以我会推荐你做最易于理解的操作，使用最普遍的工具，了解最重要的规范和习惯，但是对于其中原理不求甚解。\n",
    "\n",
    "课程的第一部分会告诉你怎么搭建一个开发环境，我们会使用Jupyter，它能够神奇地将代码和文本合二为一。同时会教你写与Jupyter最搭配Markdown语法。这种编写展示方式有多强大？本文就是它们的组合。语言基础被我放到了第二部分，我们将从“Hello world”开始，把数据类型、流程控制、集合、对象、lambda语句通通尝试一遍。第三部分要对文件和数据下手，试试NumPy和Pandas这两个专业数据工具都能干什么。第四部分做做图，使用matplotlib，做实验展示结果时应该能用得着。最后一部分来体验一下机器学习，看看小小的模型能用来做什么。\n",
    "\n",
    "# 第一部分：环境搭建\n",
    "\n",
    "课上的所有内容都在Windows环境上进行。如果你有一台Linux系统，操作可能稍有不同。我们将使用Python 3，选择最新版就可以。它的很多细节与Python 2是不同的。如果你在网上找文章自学，比较老的文章中可能使用的是Python 2，这会导致这些老代码在你的环境无法执行。\n",
    "\n",
    "## Jupyter神器\n",
    "\n",
    "对于一个开发者而言想要用一个代码文件实现一个应用会有大麻烦。一个大工程一定会把不同的模块需要分门别类被存放在不同的文件和文件夹里。但是如果刚刚在大一学过C++或者VB课程，可能更加习惯于把一个项目的所有代码写到一个文件当中。用Python做轻量级的编程也可以选择把一个小项目写进一个文件。我们选择使用Jupyter，它是一个非常直观的开发工具。\n",
    "\n",
    "如果只是为了完成教程，可以直接使用[在线实验室](https://jupyter.org/try-jupyter/lab/?path=notebooks%2FIntro.ipynb)。但是如果需要长期使用Python，我建议在本机安装。\n",
    "\n",
    "1. 我们需要Anaconda，它是一个开发平台。可以到[官网](https://www.anaconda.com/download)下载。如果有多个Python版本，一般选择最新版本。\n",
    "2. 安装Anaconda过程中需要选择加入Jupyter。\n",
    "3. 安装结束后找到Jupyter Notebook，打开。尝试新建一个笔记文件，然后以代码模式写入下面这段，试试运行吧。\n"
   ]
  },
  {
   "cell_type": "code",
   "execution_count": 8,
   "metadata": {},
   "outputs": [
    {
     "name": "stdout",
     "output_type": "stream",
     "text": [
      "Hello world!\n"
     ]
    }
   ],
   "source": [
    "print('Hello world!')"
   ]
  },
  {
   "cell_type": "markdown",
   "metadata": {},
   "source": [
    "这是一个代码块，是Jupyter Notebook文件上的一种文本块。我在后面的笔记里尽量保证每个代码块能够独立运行，但是Jupyter上的每个代码块之间不是相互无关的。执行过的部分中创建的变量、类、函数都会记忆在内存中，还是可以接着中的。\n",
    "\n",
    "除了代码你还可以在文件中加入Markdown文本。什么是Markdown？这是一种简单且丰富的文本编辑格式，可以轻易操控标题、序号、加粗、斜体和链接。教程本身就使用了这种格式，你完全可以照猫画虎。如果觉得效果不错，想要更多的了解Markdown，可以看看[这里](http://markdown.p2hp.com/getting-started/)。\n",
    "\n",
    "现在你已经拥有了第一个Python程序。先把它保存起来吧。\n",
    "\n",
    "## 让GitHub把你的代码保存一辈子\n",
    "上课写代码，一下课没保存就丢了，这不是好习惯。最好能把自己写的所有成果都保存起来，[GitHub](https://github.com/)就是这样一个帮你保存代码的网站。不论你在什么设备上，都可以从GitHub同步代码，还可以记录你的所有更改，是所有开发者都需要的工具。\n",
    "\n",
    "1. 如果没有的话，在GitHub上注册一个账号并登陆。\n",
    "2. 新建一个库（repository），可以命名为“Python_Learning”。建好之后会发现库里面自动生成了一个READ_ME文件。\n",
    "3. 从GitHub官方网站下载GitHub Desktop应用程序，在本地安装运行。它是GitHub桌面工具。\n",
    "4. 在本地建立一个文件夹，专门用来与GitHub之间同步代码。我就称这个路径为本地同步文件夹。\n",
    "5. 从网站上复制“Python_Learning”的URL地址，打开桌面工具，选择从URL克隆，填写URL地址和本地同步文件夹，就可以将刚建立的库同步到本地。\n",
    "\n",
    "操作完成后可以在本地同步目录中发现那个READ_ME文件。以后所有在那个文件夹中创建的文件就都可以通过GitHub Desktop上传到你的在线库里面。\n",
    "现在，把刚刚做好的“Hello world”程序保存到同步文件夹，就保存为“Hello world.ipynb”。GitHub桌面工具中会显示出你对同步文件夹的所有改动。选中新建的文件，提交改动并同步到Github。课程中完成的所有程序都可以用相同的方法上传，让Github帮你保存代码。\n",
    "\n",
    "**如果你有需要保密的文件，就不要保存在Githut中。**\n",
    "\n",
    "## 更加强大的工具\n",
    "\n",
    "如果你想在Python语言中投入更大经历，那么Jupyter是不够用的。你需要更加强大的开发工具。我推荐Idea。利用它和它的插件能够调试代码，可以帮你调整代码格式，提示错误和可能的优化策略，管理模块间的关系。有机会再分享。\n"
   ]
  },
  {
   "cell_type": "markdown",
   "metadata": {},
   "source": [
    "# 第二部分：Python最基本的都在这儿\n",
    "\n",
    "如果你学习过其他的编程语言，可以回忆一下。编程语言之间可能很相似，但是Python的特殊性就在于它非常的灵活。\n",
    "\n",
    "## 佛系变量类型\n",
    "\n",
    "上一部分“Hello world”我们已经使用过了一种字符串类型，我们现在实用一个变量来替代它。\n"
   ]
  },
  {
   "cell_type": "code",
   "execution_count": 11,
   "metadata": {},
   "outputs": [
    {
     "name": "stdout",
     "output_type": "stream",
     "text": [
      "Hello world!\n"
     ]
    }
   ],
   "source": [
    "hello_world = 'Hello world!'\n",
    "print(hello_world)"
   ]
  },
  {
   "cell_type": "markdown",
   "metadata": {},
   "source": [
    "现在有了两行代码。Python一行代码结束后可以除了回车什么都不加，也可以像Java一样加一个“;”分号。\n",
    "\n",
    "在这里我们使用到了一个字符串类型的变量*hello_world*。Python中的变量名只能包含字母、数字和下划线，**但是不能以数字开头**。我习惯用小写字母作为变量名称，如果有多个单词或者单词加数字，那么可以用下划线来分隔，比如这些：\n",
    "\n",
    "*row_num*\n",
    "\n",
    "*parameter_01*\n",
    "\n",
    "*temp_file_name*\n",
    "\n",
    "命名方式只是约定俗成，并不是Python的强制规则。但是一贯的命名可以让代码更工整更有可读性。\n",
    "\n",
    "能够从两行代码中看出来的第二点是，*hello_world*变量的类型并没有声明。这在C++或者Java中是不允许的，因为两种语言都严格要求变量的类型必须在使用前作出声明。难道Python不区分数据类型吗？来试试。\n",
    "\n"
   ]
  },
  {
   "cell_type": "code",
   "execution_count": 10,
   "metadata": {},
   "outputs": [
    {
     "data": {
      "text/plain": [
       "str"
      ]
     },
     "execution_count": 10,
     "metadata": {},
     "output_type": "execute_result"
    }
   ],
   "source": [
    "a_string = 'Hello world!'\n",
    "type(a_string)"
   ]
  },
  {
   "cell_type": "code",
   "execution_count": 10,
   "metadata": {},
   "outputs": [
    {
     "data": {
      "text/plain": [
       "int"
      ]
     },
     "execution_count": 10,
     "metadata": {},
     "output_type": "execute_result"
    }
   ],
   "source": [
    "b_int = 123\n",
    "type(b_int)"
   ]
  },
  {
   "cell_type": "code",
   "execution_count": 9,
   "metadata": {},
   "outputs": [
    {
     "data": {
      "text/plain": [
       "float"
      ]
     },
     "execution_count": 9,
     "metadata": {},
     "output_type": "execute_result"
    }
   ],
   "source": [
    "c_float = 3.1415\n",
    "type(c_float)"
   ]
  },
  {
   "cell_type": "code",
   "execution_count": 1,
   "metadata": {},
   "outputs": [
    {
     "data": {
      "text/plain": [
       "bool"
      ]
     },
     "execution_count": 1,
     "metadata": {},
     "output_type": "execute_result"
    }
   ],
   "source": [
    "d_bool = True\n",
    "type(d_bool)"
   ]
  },
  {
   "cell_type": "markdown",
   "metadata": {},
   "source": [
    "运行结果说明它们都有数据类型，所以Python能够在赋值过程中自动决定变量的类型，而不需要用户声明。这可以省去开发者的大量时间，当然让人舒服。\n",
    "\n",
    "但是也会引起一些问题。比如用变量接收一个函数的返回值，你要使用这个变量进行下一步计算，但是变量从函数那里接收到了什么类型呢？如果转头去读函数，可能函数并没有准备像样的注释信息，阅读代码要费一番周折。此时就可以用*type*函数把类型打印出来。或者你可以在声明时标注，但是这些标注只是为了阅读代码方便，并不会阻止你给它赋一个其他类型的值。"
   ]
  },
  {
   "cell_type": "code",
   "execution_count": 18,
   "metadata": {},
   "outputs": [],
   "source": [
    "a_string: str = 'This is string'\n",
    "b_int: int = 10\n",
    "c_float: float = 3.14\n",
    "d_bool: bool = True"
   ]
  },
  {
   "cell_type": "markdown",
   "metadata": {},
   "source": [
    "但是Python不会自动帮你做类型转换，假如你想要连接字符串和数值，如果直接使用“+”做连接就会报错。必须转换类型才行。"
   ]
  },
  {
   "cell_type": "code",
   "execution_count": 22,
   "metadata": {},
   "outputs": [
    {
     "ename": "TypeError",
     "evalue": "can only concatenate str (not \"int\") to str",
     "output_type": "error",
     "traceback": [
      "\u001b[1;31m---------------------------------------------------------------------------\u001b[0m",
      "\u001b[1;31mTypeError\u001b[0m                                 Traceback (most recent call last)",
      "Cell \u001b[1;32mIn[22], line 4\u001b[0m\n\u001b[0;32m      2\u001b[0m b_number \u001b[38;5;241m=\u001b[39m \u001b[38;5;241m123\u001b[39m\n\u001b[0;32m      3\u001b[0m \u001b[38;5;66;03m# 这里会报错\u001b[39;00m\n\u001b[1;32m----> 4\u001b[0m \u001b[38;5;28mprint\u001b[39m(a_string\u001b[38;5;241m+\u001b[39mb_number)\n",
      "\u001b[1;31mTypeError\u001b[0m: can only concatenate str (not \"int\") to str"
     ]
    }
   ],
   "source": [
    "a_string = 'hello'\n",
    "b_number = 123\n",
    "# 这里会报错\n",
    "print(a_string+b_number)"
   ]
  },
  {
   "cell_type": "markdown",
   "metadata": {},
   "source": [
    "Python不能连接字符串和数字类型，必须将数字转成字符串才允许拼接，但是这种转换不会自动进行。"
   ]
  },
  {
   "cell_type": "code",
   "execution_count": 24,
   "metadata": {},
   "outputs": [
    {
     "name": "stdout",
     "output_type": "stream",
     "text": [
      "456123\n",
      "579.0\n"
     ]
    }
   ],
   "source": [
    "a_string = '456'\n",
    "b_number = 123\n",
    "# 这里正常\n",
    "print(a_string+str(b_number))\n",
    "print(float(a_string) + b_number)"
   ]
  },
  {
   "cell_type": "markdown",
   "metadata": {},
   "source": [
    "*str\\(\\)*是转化函数，就是把其他类型的变量转化为字符串。类似的还有*int\\(\\)*转化为整数，*float\\(\\)*转化为浮点数.\n",
    "\n",
    "上面两段代码中我都加了一行不是代码的东西，在“#”号后面。这就是注释。用注释可以在代码中写提示信息，或者让一部分代码不执行。在Jupyter Notebook上的代码块中写注释显得画蛇添足，但是放在其他的开发工具中就会很有用。"
   ]
  },
  {
   "cell_type": "markdown",
   "metadata": {},
   "source": [
    "## 字符串了解一下\n",
    "\n",
    "直接上代码。注意所有的字符串都要在引号当中。"
   ]
  },
  {
   "cell_type": "code",
   "execution_count": 30,
   "metadata": {},
   "outputs": [
    {
     "name": "stdout",
     "output_type": "stream",
     "text": [
      "multi_row_str_1: This is the 1st row. \\nThis is the 2nd row.\n",
      "multi_row_str_2: This is the 1st row.\n",
      "This is the 2nd row.\n",
      "The short sring has 3 letters and the long string has 14.\n",
      "Does the long string contain the short one? True\n",
      "new_str: new text\n",
      "The lower string equals to the upper string. False\n",
      "They can be equal if using lower() and upper(). True\n"
     ]
    }
   ],
   "source": [
    "'''\n",
    "这一部分展示字符串上的各种操作。\n",
    "我是另一种注释！\n",
    "'''\n",
    "\n",
    "# 多行字符串1：使用转义符号\n",
    "multi_row_str_1 = \"This is the 1st row. \\\\nThis is the 2nd row.\"\n",
    "print('multi_row_str_1: ' + multi_row_str_1)\n",
    "\n",
    "# 多行字符串2:使用保持'''保持原有格式\n",
    "multi_row_str_2 = '''This is the 1st row.\n",
    "This is the 2nd row.'''\n",
    "print('multi_row_str_2: ' + multi_row_str_2)\n",
    "\n",
    "# 获取长度\n",
    "short_str = 'abc'\n",
    "long_str = 'abcdefghijklmn'\n",
    "print('The short sring has {} letters and the long string has {}.'.format(str(len(short_str)),str(len(long_str))))\n",
    "\n",
    "# 判断包含关系\n",
    "print('Does the long string contain the short one? '+ str(short_str in long_str))\n",
    "\n",
    "# 替换\n",
    "ori_str = 'original text'\n",
    "new_str = ori_str.replace('original','new')\n",
    "print('new_str: ' + new_str)\n",
    "\n",
    "# 大小写与比较\n",
    "lower_str = 'a string'\n",
    "upper_str = 'A STRING'\n",
    "print('The lower string equals to the upper string. ' + str(lower_str == upper_str))\n",
    "print('They can be equal if using lower() and upper(). ' + str(lower_str == upper_str.lower() and lower_str.upper() == upper_str))\n"
   ]
  },
  {
   "cell_type": "markdown",
   "metadata": {},
   "source": [
    "注意我使用的*format\\(\\)*函数，它是一个字符串格式化工具。当你要将很多值填写进一个模版里的时候，用“+”连接每两个相邻的部分会比较麻烦。尤其是你有一个固定模版要使用好多次，那么使用*format\\(\\)*函数更加高效。"
   ]
  },
  {
   "cell_type": "code",
   "execution_count": 1,
   "metadata": {},
   "outputs": [
    {
     "name": "stdout",
     "output_type": "stream",
     "text": [
      "This is a template having 3 parameters \"a\", \"b\" and \"c\".\n",
      "This is a template having 3 parameters \"1\", \"2\" and \"3\".\n"
     ]
    }
   ],
   "source": [
    "# 第一种格式化方法\n",
    "template_str = 'This is a template having 3 parameters \\\"{}\\\", \\\"{}\\\" and \\\"{}\\\".'\n",
    "print(template_str.format('a','b','c'))\n",
    "print(template_str.format('1','2','3'))"
   ]
  },
  {
   "cell_type": "markdown",
   "metadata": {},
   "source": [
    "还有另一种类似的模版填写方式。"
   ]
  },
  {
   "cell_type": "code",
   "execution_count": 37,
   "metadata": {},
   "outputs": [
    {
     "name": "stdout",
     "output_type": "stream",
     "text": [
      "This is a template having 3 parameters \"a\", \"b\" and \"123\".\n",
      "This is a template having 3 parameters \"1\", \"2\" and \"3\".\n",
      "This is a template having 3 parameters \"1\", \"2\" and \"3\".\n"
     ]
    }
   ],
   "source": [
    "# 第二种格式化方法\n",
    "template_str_2 = 'This is a template having 3 parameters \\\"%s\\\", \\\"%s\\\" and \\\"%s\\\".'\n",
    "print(template_str_2% ('a','b','c'))\n",
    "print(template_str_2% ('1','2','3'))\n",
    "print(template_str_2% (1,2,3))"
   ]
  },
  {
   "cell_type": "code",
   "execution_count": 42,
   "metadata": {},
   "outputs": [
    {
     "name": "stdout",
     "output_type": "stream",
     "text": [
      "This is a template having parameter 1234.123.\n"
     ]
    }
   ],
   "source": [
    "template_str_3 = 'This is a template having parameter %.3f.'\n",
    "\n",
    "v_int = 1234.1232131231\n",
    "print(template_str_3% (v_int))"
   ]
  },
  {
   "cell_type": "markdown",
   "metadata": {},
   "source": [
    "这里*\\%s*表示会插入字符串，如果想要插入数值，需要用*\\%d*或者*\\%f*分别代表整数和浮点数。我们能用到的格式不多，之后会实际使用这种方法。\n",
    "\n",
    "有一种方式能够实现对字符串的精细操作叫做正则表达式，你可以把它理解为一套规定字符串规则的语法。有了这个工具你可以判断一个字符串是否符合你的规定，也可以按照指定规则来提取字符串的子串。如果你需要经常处理文字，这个工具会非常有用。举两个例子。第一个，你要求用户按照固定的格式输入一个日期，比如“yyyy-MM-dd”。用户真正的输入很有可能是错的，拿去用会导致错误。这时就需要校验。"
   ]
  },
  {
   "cell_type": "code",
   "execution_count": 43,
   "metadata": {},
   "outputs": [
    {
     "name": "stdout",
     "output_type": "stream",
     "text": [
      "result 1: <re.Match object; span=(0, 10), match='2023-12-20'>\n",
      "result 2: None\n"
     ]
    }
   ],
   "source": [
    "# 引入正则模块\n",
    "import re\n",
    "input_date_1 = '2023-12-20'\n",
    "input_date_2 = '20231220'\n",
    "date_pattern = '[0-9]{4}-[01][0-9]-[0-3][0-9]'\n",
    "print('result 1: '+str(re.match(date_pattern, input_date_1)))\n",
    "print('result 2: '+str(re.match(date_pattern, input_date_2)))\n"
   ]
  },
  {
   "cell_type": "markdown",
   "metadata": {},
   "source": [
    "虽然这个正则方法叫做*match\\(\\)*，但是匹配时在打印的结果中显示的并不是“True”或者“False”，而是一个更加复杂的结构。我们仍然可以把*match\\(\\)*的结果放在*if*后面作为判断条件用。但是这个结果有更多功能，再用第二个例子看一下。\n",
    "\n",
    "第二，从身份证号当中提取生日、户籍地址和性别。"
   ]
  },
  {
   "cell_type": "code",
   "execution_count": 44,
   "metadata": {},
   "outputs": [
    {
     "name": "stdout",
     "output_type": "stream",
     "text": [
      "210202200002120220\n",
      "20000212\n",
      "022\n",
      "0\n"
     ]
    }
   ],
   "source": [
    "import re\n",
    "# 编造的身份证号\n",
    "ID_number = '210202200002120220'\n",
    "ID_pattern = '\\\\d{6}(\\\\d{8})(\\\\d{3})(\\\\d|x|X)'\n",
    "result = re.match(ID_pattern, ID_number)\n",
    "# 匹配到的字符串\n",
    "print(result.group(0))\n",
    "# 第一个括号的匹配内容，出生日期\n",
    "print(result.group(1))\n",
    "# 第二个括号中的匹配内容，个人编号，可判断性别\n",
    "print(result.group(2))\n",
    "\n",
    "print(result.group(3))"
   ]
  },
  {
   "cell_type": "markdown",
   "metadata": {},
   "source": [
    "匹配模式字符串中有很多括号，可以认为每个括号都是一个分组，是希望抽取的内容。\n",
    "\n",
    "正则表达式还可以帮你做搜索和替换。而且它并不仅仅服务于Python，常用的语言都支持。想要全面学习正则表达式可以从[这里](https://www.runoob.com/regexp/regexp-syntax.html)学习。\n",
    "\n",
    "字符串还可以被当作字符的串来使用，我们将到可迭代组件那一部分会见识更神奇的操作。"
   ]
  },
  {
   "cell_type": "markdown",
   "metadata": {},
   "source": [
    "## 数字要小心翼翼\n",
    "\n",
    "基础数据类型只介绍两个，整形和浮点型。对比Java，Python的基础数值类型是非常少的。"
   ]
  },
  {
   "cell_type": "code",
   "execution_count": 3,
   "metadata": {},
   "outputs": [
    {
     "name": "stdout",
     "output_type": "stream",
     "text": [
      "type of i: <class 'int'>, type of f: <class 'float'>\n",
      "True\n",
      "False\n"
     ]
    }
   ],
   "source": [
    "# 自动确定类型\n",
    "i = 1\n",
    "f = 1.0\n",
    "print('type of i: %s, type of f: %s'% (str(type(i)), str(type(f))))\n",
    "print(i == f)\n",
    "print(i != f)"
   ]
  },
  {
   "cell_type": "markdown",
   "metadata": {},
   "source": [
    "虽然Python也可以指定数据类型，但是并不起作用，仅仅是方便你阅读代码。"
   ]
  },
  {
   "cell_type": "code",
   "execution_count": 3,
   "metadata": {},
   "outputs": [
    {
     "name": "stdout",
     "output_type": "stream",
     "text": [
      "value of i: 1.0, value of f 1\n",
      "type of i: <class 'float'>, type of f: <class 'int'>\n",
      "value of i: 1, value of f 1.0\n",
      "type of i: <class 'int'>, type of f: <class 'float'>\n"
     ]
    }
   ],
   "source": [
    "# 指定类型，但是失效\n",
    "i: int = 1.0\n",
    "f: float = 1\n",
    "print('value of i: {}, value of f {}'.format(i, f))\n",
    "print('type of i: %s, type of f: %s'% (str(type(i)), str(type(f))))\n",
    "\n",
    "# 强制转类型\n",
    "i = int(i)\n",
    "f = float(f)\n",
    "print('value of i: {}, value of f {}'.format(i, f))\n",
    "print('type of i: %s, type of f: %s'% (str(type(i)), str(type(f))))\n"
   ]
  },
  {
   "cell_type": "code",
   "execution_count": null,
   "metadata": {},
   "outputs": [],
   "source": [
    "如果两个值的类型不相同，那么计算结果会是什么类型？"
   ]
  },
  {
   "cell_type": "code",
   "execution_count": 1,
   "metadata": {},
   "outputs": [
    {
     "name": "stdout",
     "output_type": "stream",
     "text": [
      "type of sum_1: <class 'int'>, type of sum_2: <class 'float'>\n"
     ]
    }
   ],
   "source": [
    "# 经过计算后的结果是什么类型？\n",
    "i = 1\n",
    "f = 1.0\n",
    "sum_1 = i + i\n",
    "sum_2 = i + f\n",
    "print('type of sum_1: %s, type of sum_2: %s'% (str(type(sum_1)),str(type(sum_2))))\n"
   ]
  },
  {
   "cell_type": "markdown",
   "metadata": {},
   "source": [
    "如果你需要做严密计算，对数值精度要求非常高，那么就要用一些特殊的类型，比如Decimal。*int*和*float*在内存中所占用的空间都是有限的，所以精度都是有限的。"
   ]
  },
  {
   "cell_type": "code",
   "execution_count": 3,
   "metadata": {},
   "outputs": [
    {
     "name": "stdout",
     "output_type": "stream",
     "text": [
      "How many digits can be kept? 0.3333333333333333 18 digits.\n",
      "How many digits can be kept? 3.141592653589793238462643383279 32 digits.\n"
     ]
    }
   ],
   "source": [
    "# 注意精度有限\n",
    "f = 1/3\n",
    "print('How many digits can be kept? ' + str(f) + ' ' + str(len(str(f))) + ' digits.')\n",
    "\n",
    "# 想要更大精度怎么办？\n",
    "from decimal import Decimal\n",
    "d = Decimal('3.141592653589793238462643383279')\n",
    "print('How many digits can be kept? ' + str(d) + ' ' + str(len(str(d))) + ' digits.')"
   ]
  },
  {
   "cell_type": "markdown",
   "metadata": {},
   "source": [
    "数值之间的常见计算大部分依靠符号。"
   ]
  },
  {
   "cell_type": "code",
   "execution_count": 2,
   "metadata": {},
   "outputs": [
    {
     "data": {
      "text/plain": [
       "11"
      ]
     },
     "execution_count": 2,
     "metadata": {},
     "output_type": "execute_result"
    }
   ],
   "source": [
    "# 幂指数\n",
    "a = 3 ** 2\n",
    "a"
   ]
  },
  {
   "cell_type": "code",
   "execution_count": 12,
   "metadata": {},
   "outputs": [
    {
     "data": {
      "text/plain": [
       "1"
      ]
     },
     "execution_count": 12,
     "metadata": {},
     "output_type": "execute_result"
    }
   ],
   "source": [
    "# 整除\n",
    "a = 5//3\n",
    "a"
   ]
  },
  {
   "cell_type": "code",
   "execution_count": 2,
   "metadata": {},
   "outputs": [
    {
     "data": {
      "text/plain": [
       "14"
      ]
     },
     "execution_count": 2,
     "metadata": {},
     "output_type": "execute_result"
    }
   ],
   "source": [
    "# 注意计算顺序与常规数学相同\n",
    "b = 2 + 3 * 4\n",
    "b"
   ]
  },
  {
   "cell_type": "code",
   "execution_count": 8,
   "metadata": {},
   "outputs": [
    {
     "data": {
      "text/plain": [
       "20"
      ]
     },
     "execution_count": 8,
     "metadata": {},
     "output_type": "execute_result"
    }
   ],
   "source": [
    "c = (2 + 3) * 4\n",
    "c"
   ]
  },
  {
   "cell_type": "markdown",
   "metadata": {},
   "source": [
    "复杂计算需要依靠*math*模块。下面的例子里使用*dir()*函数来列举一个模块中的所有内容。"
   ]
  },
  {
   "cell_type": "code",
   "execution_count": 3,
   "metadata": {},
   "outputs": [
    {
     "data": {
      "text/plain": [
       "['__doc__',\n",
       " '__loader__',\n",
       " '__name__',\n",
       " '__package__',\n",
       " '__spec__',\n",
       " 'acos',\n",
       " 'acosh',\n",
       " 'asin',\n",
       " 'asinh',\n",
       " 'atan',\n",
       " 'atan2',\n",
       " 'atanh',\n",
       " 'cbrt',\n",
       " 'ceil',\n",
       " 'comb',\n",
       " 'copysign',\n",
       " 'cos',\n",
       " 'cosh',\n",
       " 'degrees',\n",
       " 'dist',\n",
       " 'e',\n",
       " 'erf',\n",
       " 'erfc',\n",
       " 'exp',\n",
       " 'exp2',\n",
       " 'expm1',\n",
       " 'fabs',\n",
       " 'factorial',\n",
       " 'floor',\n",
       " 'fmod',\n",
       " 'frexp',\n",
       " 'fsum',\n",
       " 'gamma',\n",
       " 'gcd',\n",
       " 'hypot',\n",
       " 'inf',\n",
       " 'isclose',\n",
       " 'isfinite',\n",
       " 'isinf',\n",
       " 'isnan',\n",
       " 'isqrt',\n",
       " 'lcm',\n",
       " 'ldexp',\n",
       " 'lgamma',\n",
       " 'log',\n",
       " 'log10',\n",
       " 'log1p',\n",
       " 'log2',\n",
       " 'modf',\n",
       " 'nan',\n",
       " 'nextafter',\n",
       " 'perm',\n",
       " 'pi',\n",
       " 'pow',\n",
       " 'prod',\n",
       " 'radians',\n",
       " 'remainder',\n",
       " 'sin',\n",
       " 'sinh',\n",
       " 'sqrt',\n",
       " 'tan',\n",
       " 'tanh',\n",
       " 'tau',\n",
       " 'trunc',\n",
       " 'ulp']"
      ]
     },
     "execution_count": 3,
     "metadata": {},
     "output_type": "execute_result"
    }
   ],
   "source": [
    "# 引入math模块并使用dir函数展示模块内容\n",
    "import math\n",
    "dir(math)"
   ]
  },
  {
   "cell_type": "markdown",
   "metadata": {},
   "source": [
    "这里仅仅举几个例子。"
   ]
  },
  {
   "cell_type": "code",
   "execution_count": 7,
   "metadata": {},
   "outputs": [
    {
     "name": "stdout",
     "output_type": "stream",
     "text": [
      "3.141592653589793\n",
      "4.0\n",
      "9.0\n"
     ]
    }
   ],
   "source": [
    "import math\n",
    "print(math.pi)\n",
    "print(math.sqrt(16))\n",
    "print(math.pow(3, 2))"
   ]
  },
  {
   "cell_type": "markdown",
   "metadata": {},
   "source": [
    "字符串、整型、浮点数、布尔型，基本数据类型就讲这些。还带出了一个十进制类型*decimal*。数据类型暂时告一段落，在介绍更丰富的类型之前需要掌握流程控制工具。"
   ]
  },
  {
   "cell_type": "markdown",
   "metadata": {},
   "source": [
    "## 用好tab做流程控制\n",
    "\n",
    "如果你学过的话，回想一下C++或者Java当中你在每行代码前面是否有空格或者是tab，以及有多少个，对这一行代码的意义有影响吗？没有。在这两种语言当中，你需要做好缩进是为了美观易读。但是在Python当中缩进会对代码的意义造成影响。举一个例子。"
   ]
  },
  {
   "cell_type": "code",
   "execution_count": 16,
   "metadata": {},
   "outputs": [
    {
     "name": "stdout",
     "output_type": "stream",
     "text": [
      "second print\n"
     ]
    }
   ],
   "source": [
    "# 第一个if判断\n",
    "if False:\n",
    "    print('first print tab')\n",
    "    print('second print tab')\n",
    "\n",
    "# 第二个if判断\n",
    "if False:\n",
    "    print('first print tab')\n",
    "print('second print')"
   ]
  },
  {
   "cell_type": "markdown",
   "metadata": {},
   "source": [
    "上面代码中两个if条件都是*False*，但是打印的内容不同。只有那个没有缩进的代码行能够成功打印。这说明带缩进的代码行接受*if*条件句管辖，而没有缩进，与*if*条件在同一纵向位置的代码就没有受到它的约束，被执行了。可以。所以，在Python中缩进代表了所在代码行受到上方没有缩进，或者缩进更少代码的控制或者包含。什么是控制？就像例子中的*if*条件。什么是包含？后面见到类和函数的时候也会遇到其中内容的缩进。多行相邻代码缩进程度相同，说明它们共同受到同一个条件控制，或者归属于同一个函数或类。\n",
    "\n",
    "这里我用的是tab，如果你使用两个空格替换tab可以吗？可以。能够两种缩进符号同时用吗？不要这样做，因为虽然你肉眼看起来代码已经对齐了，但是Python会区分两种缩进然后把它们当作不同的层级。我推荐使用tab而不用空格。tab留出的空间比较大，更美观，也更容易对齐。还有你可以选取多行后点击tab整体缩进，这个空格是做不到的。违反这些规则会怎样？很容易报错，而且由于肉眼看不出来差别，很难找到问题。\n",
    "\n",
    "再详细看看*if*条件。"
   ]
  },
  {
   "cell_type": "code",
   "execution_count": 8,
   "metadata": {},
   "outputs": [
    {
     "name": "stdout",
     "output_type": "stream",
     "text": [
      "content under joint conditions 1\n",
      "content under joint conditions 2\n",
      "content under joint conditions 3\n",
      "content under else\n"
     ]
    }
   ],
   "source": [
    "# 条件的逻辑组合\n",
    "if 1 == 1 and 2 == 2:\n",
    "    print('content under joint conditions 1')\n",
    "\n",
    "if 1 == 1 or 1 == 2:\n",
    "    print('content under joint conditions 2')\n",
    "\n",
    "if not 1 != 1:\n",
    "    print('content under joint conditions 3')\n",
    "\n",
    "# if, elif与else\n",
    "if 1 == 2:\n",
    "    print('content under if')\n",
    "elif 1 == 3:\n",
    "    print('content under elif 1')\n",
    "elif 1 == 4:\n",
    "    print('content under elif 2')\n",
    "else:\n",
    "    print('content under else')"
   ]
  },
  {
   "cell_type": "markdown",
   "metadata": {},
   "source": [
    "*if*后面的判断条件实际上返回了一个布尔型的值，也就是*True*或者*False*。可以放其他类型吗？来两个例子。"
   ]
  },
  {
   "cell_type": "code",
   "execution_count": 10,
   "metadata": {},
   "outputs": [
    {
     "name": "stdout",
     "output_type": "stream",
     "text": [
      "-2\n",
      "-1\n",
      "1\n",
      "2\n"
     ]
    }
   ],
   "source": [
    "if -2:\n",
    "    print(-2)\n",
    "\n",
    "if -1:\n",
    "    print(-1)\n",
    "\n",
    "if 0:\n",
    "    print(0)\n",
    "\n",
    "if 1:\n",
    "    print(1)\n",
    "    \n",
    "if 2:\n",
    "    print(2)"
   ]
  },
  {
   "cell_type": "markdown",
   "metadata": {},
   "source": [
    "在*if*条件表达式中整数0等同于False，其他等同于True，负数也是True。\n",
    "\n",
    "还有其他的可能。我们之前提过*re.match()*函数的结果可以直接当成条件放在*if*后面。试试看。"
   ]
  },
  {
   "cell_type": "code",
   "execution_count": 2,
   "metadata": {},
   "outputs": [
    {
     "name": "stdout",
     "output_type": "stream",
     "text": [
      "result 1: <re.Match object; span=(0, 10), match='2023-12-20'>\n",
      "\"2023-12-20\" matches the pattern.\n",
      "result 2: None\n"
     ]
    }
   ],
   "source": [
    "import re\n",
    "input_date_1 = '2023-12-20'\n",
    "input_date_2 = '20231220'\n",
    "date_pattern = '[0-9]{4}-[01][0-9]-[0-3][0-9]'\n",
    "\n",
    "print('result 1: '+str(re.match(date_pattern, input_date_1)))\n",
    "if re.match(date_pattern, input_date_1):\n",
    "    print('\\\"%s\\\" matches the pattern.'% input_date_1)\n",
    "\n",
    "print('result 2: '+str(re.match(date_pattern, input_date_2)))\n",
    "if re.match(date_pattern, input_date_2):\n",
    "    print('\\\"%s\\\" matches the pattern.'% input_date_2)\n"
   ]
  },
  {
   "cell_type": "markdown",
   "metadata": {},
   "source": [
    "显然*if*后面可以放置的不只有布尔型的值，那么如果值不是空（*None*)，就等同于真，如果是空则等同于假。"
   ]
  },
  {
   "cell_type": "markdown",
   "metadata": {},
   "source": [
    "如果你的条件分支非常多，使用*if,elif,else*就会变得非常累赘。C++和Java都拥有一套*switch case*语法，用来更高效的实现条件判断，在Python 3.9和之前的版本中Python并没有对等的语法。但是到了3.10版本之后Python拥有了一个更加强大的语法，*match case*可以完全替代*switch case*。"
   ]
  },
  {
   "cell_type": "code",
   "execution_count": 7,
   "metadata": {},
   "outputs": [
    {
     "name": "stdout",
     "output_type": "stream",
     "text": [
      "equal to 6, 7 or 8\n"
     ]
    }
   ],
   "source": [
    "# match case示例\n",
    "condition_int = 7\n",
    "match condition_int:\n",
    "    case 1: # 字面量\n",
    "        print('equal to 1')\n",
    "    case 5:\n",
    "        print('equal to 5')\n",
    "    case 6 | 7 | 8: #或关系\n",
    "        print('equal to 6, 7 or 8')\n",
    "    case value if value > 8 and value <20: # 结合if表达式\n",
    "        print(value)\n",
    "    case _: # 默认值\n",
    "        print('other value')\n"
   ]
  },
  {
   "cell_type": "markdown",
   "metadata": {},
   "source": [
    "注意两个地方。第一，*match*所在行没有缩进，所有*case*行都统一缩进一个tab，它们所在的层级相同。缩进两个tab的都是符合各个*case*条件时所执行的代码，所以都比*case*行还要多缩进一个tab。第二，最后的下划线代表的是匹配所有其他情况，与c++中的*default*相同。\n",
    "\n",
    "这个例子中所有的条件都作用于一的单独的整型变量。但是这并不是*match case*的全部能力。我们在学习过元组和类之后将再看一些它更强大的功能。\n",
    "\n",
    "继续说流程控制。除了条件分支，流程控制还包括循环和异常处理。\n"
   ]
  },
  {
   "cell_type": "code",
   "execution_count": 3,
   "metadata": {},
   "outputs": [
    {
     "name": "stdout",
     "output_type": "stream",
     "text": [
      "5\n",
      "4\n",
      "3\n",
      "2\n",
      "1\n",
      "Loop ended.\n"
     ]
    }
   ],
   "source": [
    "# while循环\n",
    "i = 5\n",
    "while i > 0:\n",
    "    print(i)\n",
    "    i -= 1\n",
    "\n",
    "print('Loop ended.')"
   ]
  },
  {
   "cell_type": "markdown",
   "metadata": {},
   "source": [
    "注意*i -= 1*在c++和Java中都是*i\\-\\-*。这是Python特殊的地方。\n",
    "\n",
    "*while*是按给定条件继续循环。如果你有一个集合，要循环遍历每个元素呢？虽然*while*能做到，但是有个*for*循环实现更容易。"
   ]
  },
  {
   "cell_type": "code",
   "execution_count": 1,
   "metadata": {},
   "outputs": [
    {
     "name": "stdout",
     "output_type": "stream",
     "text": [
      "a\n",
      "b\n",
      "c\n",
      "d\n",
      "e\n",
      "f\n",
      "g\n",
      "<separator>\n",
      "a\n",
      "b\n",
      "c\n",
      "d\n",
      "e\n",
      "f\n",
      "g\n"
     ]
    }
   ],
   "source": [
    "source_str = 'abcdefg'\n",
    "# 如果用while循环\n",
    "length = len(source_str)\n",
    "i = 0\n",
    "while i < length:\n",
    "    print(source_str[i])\n",
    "    i += 1\n",
    "\n",
    "print('<separator>')\n",
    "\n",
    "# 用for循环\n",
    "for char in source_str:\n",
    "    print(char)\n"
   ]
  },
  {
   "cell_type": "markdown",
   "metadata": {},
   "source": [
    "*range*函数可以支持*for*有更多花样。*range*中可以使用三个参数，起点、终点和步长。步长可以省略。"
   ]
  },
  {
   "cell_type": "code",
   "execution_count": 2,
   "metadata": {},
   "outputs": [
    {
     "name": "stdout",
     "output_type": "stream",
     "text": [
      "3\n",
      "5\n",
      "7\n"
     ]
    }
   ],
   "source": [
    "# range例子\n",
    "for each in range(3, 9, 2):\n",
    "    print(each)"
   ]
  },
  {
   "cell_type": "markdown",
   "metadata": {},
   "source": [
    "如果*range*只接受一个参数，就会从0开始数n个数。"
   ]
  },
  {
   "cell_type": "code",
   "execution_count": 3,
   "metadata": {},
   "outputs": [
    {
     "name": "stdout",
     "output_type": "stream",
     "text": [
      "0\n",
      "1\n",
      "2\n",
      "3\n",
      "4\n"
     ]
    }
   ],
   "source": [
    "# range例子\n",
    "for each in range(5):\n",
    "    print(each)"
   ]
  },
  {
   "cell_type": "markdown",
   "metadata": {},
   "source": [
    "*range*函数实际上按照你的需求产生了一种迭代器，专门用在这种迭代过程中。"
   ]
  },
  {
   "cell_type": "markdown",
   "metadata": {},
   "source": [
    "流程控制的最后一个内容，异常处理。有些时候代码的运行会有意想不到的情况，你想要接收Excel文件xlsx但是收到的是xls格式，或者写入数据库时发现连接不上。这种不理想状态运行状态就叫异常，好的程序应该可以在异常发生的时候做出正确的处理而不是让整个程序创业未半而中道崩殂。*try except*语法就是做这个用的。\n"
   ]
  },
  {
   "cell_type": "code",
   "execution_count": 2,
   "metadata": {},
   "outputs": [
    {
     "name": "stdout",
     "output_type": "stream",
     "text": [
      "There is an exception!\n",
      "The program comes to an end.\n"
     ]
    }
   ],
   "source": [
    "# 尝试制造并捕获一个异常\n",
    "try:\n",
    "    a = 2 / 0\n",
    "except:\n",
    "    print('There is an exception!')\n",
    "else:\n",
    "    print('This is visible when there is no exception.')\n",
    "finally:\n",
    "    print('The program comes to an end.')\n"
   ]
  },
  {
   "cell_type": "markdown",
   "metadata": {},
   "source": [
    "在*try*和*except*之间的部分，比它们缩进一个tab的部分现在放了一行一定会报错的代码，实用中你会把你认为可能出错的代码放进去。\n",
    "\n",
    "*except*下是在异常发生的情况下会执行的代码，也就是直接的错误处理。示例里这一行内容打印出来了。\n",
    "\n",
    "后面两个部分需要认真理解。先说*finally*，这个部分更常用一些，是无论异常是否发生都一定会执行的内容。举个例子，你开启一个数据库连接，想要向里面写数据，然后把连接关闭。数据库性能是有限的，如果连接数量太大，新连接就无法响应，就是数据库用不了了。于是，写数据这一步无论成功与否，你都需要关闭数据库连接。那么关闭数据库连接的功能就可以写在*finally*里面。\n",
    "\n",
    "*else*使用率非常低，而且容易跟*if else*混淆。*try*下面的*else*会在没有异常的情况下，在*try*之后和*finally*之前执行。"
   ]
  },
  {
   "cell_type": "markdown",
   "metadata": {},
   "source": [
    "## 能迭代的都是好同志\n",
    "\n",
    "我们已经见过迭代了，使用*for*遍历字符串每个字符，而字符串可以理解为是字符的“串”。什么是“串”？Python中并没有这种概念，但是有的是元组、集合、列、字典，都是承载数据的组合，称为复杂数据类型，与基本数据类型相对。\n",
    "\n",
    "你不可能只用程序处理数的过来的数据，组合里可能遇到上万或者更多的值，一个个处理这些值的过程就是迭代。元组、集合、列表和字典使用中经常会伴随迭代。\n",
    "\n",
    "看看元组，tuple。"
   ]
  },
  {
   "cell_type": "code",
   "execution_count": 3,
   "metadata": {},
   "outputs": [
    {
     "name": "stdout",
     "output_type": "stream",
     "text": [
      "<class 'bool'>\n",
      "False\n",
      "<class 'str'>\n",
      "a\n",
      "<class 'int'>\n",
      "2\n",
      "<class 'float'>\n",
      "3.0\n"
     ]
    }
   ],
   "source": [
    "# 创建一个元组\n",
    "tuple_1 = (False,'a', 2, 3.0)\n",
    "for each in tuple_1:\n",
    "    print(type(each))\n",
    "    print(each)\n"
   ]
  },
  {
   "cell_type": "markdown",
   "metadata": {},
   "source": [
    "建立元组可以使用“()”。我特意创建了一个包含布尔型、字符串、整型和浮点型的元组。这说明元组中可以混合不同类型的数据。其次，创建的时候的顺序与输出的顺序一致，说明元组是有序的。\n",
    "\n",
    "元组的特性是不可更改，试试就逝世。"
   ]
  },
  {
   "cell_type": "code",
   "execution_count": 2,
   "metadata": {},
   "outputs": [
    {
     "name": "stdout",
     "output_type": "stream",
     "text": [
      "False\n",
      "a\n"
     ]
    },
    {
     "ename": "TypeError",
     "evalue": "'tuple' object does not support item assignment",
     "output_type": "error",
     "traceback": [
      "\u001b[0;31m---------------------------------------------------------------------------\u001b[0m",
      "\u001b[0;31mTypeError\u001b[0m                                 Traceback (most recent call last)",
      "Cell \u001b[0;32mIn[2], line 7\u001b[0m\n\u001b[1;32m      4\u001b[0m \u001b[38;5;28mprint\u001b[39m(tuple_1[\u001b[38;5;241m0\u001b[39m])\n\u001b[1;32m      5\u001b[0m \u001b[38;5;28mprint\u001b[39m(tuple_1[\u001b[38;5;241m1\u001b[39m])\n\u001b[0;32m----> 7\u001b[0m \u001b[43mtuple_1\u001b[49m\u001b[43m[\u001b[49m\u001b[38;5;241;43m0\u001b[39;49m\u001b[43m]\u001b[49m \u001b[38;5;241m=\u001b[39m \u001b[38;5;28;01mTrue\u001b[39;00m\n",
      "\u001b[0;31mTypeError\u001b[0m: 'tuple' object does not support item assignment"
     ]
    }
   ],
   "source": [
    "# 尝试获取和设定元组中值\n",
    "tuple_1 = (False,'a', 2, 3.0)\n",
    "\n",
    "print(tuple_1[0])\n",
    "print(tuple_1[1])\n",
    "\n",
    "tuple_1[0] = True\n"
   ]
  },
  {
   "cell_type": "markdown",
   "metadata": {},
   "source": [
    "前面两个*print*都是按照序号取值，这与c++和Java完全相同。需要注意序号的起点是0而不是1。第三个*print*报错误信息显示元组不支持设定值。一般对元组本身的更新就只能创建新的元组替代旧的。严谨地说也有例外，但是不是本课程内容了。只要记住不要更新元组就行了。\n",
    "\n",
    "为什么Python会有这样一种不能更改的组合？它在什么场景下使用？元组最常见的用处是为函数传递返回值。假设你有一个文章查重函数，分析两篇文章有多少相似度，这是一个数值。还同时返回一个字符串，装着所有相似的文字。再返回一个判定，如果判断是抄袭，那么就返回*True*，不算抄袭就返回*False*。Python允许它们一起以元组的形式从函数返回。我们当然不想获得的计算结果被中途修改，当然也不需要这么做。在讲解函数的部分我们会遇到这种情况。\n"
   ]
  },
  {
   "cell_type": "markdown",
   "metadata": {},
   "source": [
    "第二项，集合set。"
   ]
  },
  {
   "cell_type": "code",
   "execution_count": 9,
   "metadata": {},
   "outputs": [
    {
     "name": "stdout",
     "output_type": "stream",
     "text": [
      "{'a', 'c', 'b', 'd'}\n",
      "<class 'dict'>\n",
      "<class 'set'>\n",
      "{2, 4, 'k', 'u'}\n",
      "{2, 4, 5, 'u', 'k'}\n"
     ]
    }
   ],
   "source": [
    "# 创建集合\n",
    "set_1 = {'a', 'd', 'd', 'c', 'b', 'a'}\n",
    "print(set_1)\n",
    "\n",
    "# 空集合？\n",
    "set_3 = {}\n",
    "print(type(set_3))\n",
    "# 真的空集合\n",
    "set_3 = set()\n",
    "print(type(set_3))\n",
    "\n",
    "# 混合类型的集合\n",
    "set_2 = {2, 4, 'k', 'u'}\n",
    "print(set_2)\n",
    "set_2.add(5)\n",
    "print(set_2)\n"
   ]
  },
  {
   "cell_type": "code",
   "execution_count": null,
   "metadata": {},
   "outputs": [],
   "source": [
    "建立集合一般用“{}”，但是空集合特殊。为什么要建一个空字典？可能你需要用一个集合装载结果。\n",
    "\n",
    "集合最大的特点是不允许重复，所以可以拿它做去重复。要注意集合中的内容不能保持顺序。它可以承载不同的类型。\n",
    "\n",
    "集合还有一个用处，如果你有要判断一个值是否在集合中已经存在，可以用*in*关键字。"
   ]
  },
  {
   "cell_type": "code",
   "execution_count": 4,
   "metadata": {},
   "outputs": [
    {
     "name": "stdout",
     "output_type": "stream",
     "text": [
      "True\n",
      "False\n"
     ]
    }
   ],
   "source": [
    "set_1 = {'a', 'd', 'd', 'c', 'b', 'a'}\n",
    "print('b' in set_1)\n",
    "print('z' in set_1)"
   ]
  },
  {
   "cell_type": "markdown",
   "metadata": {},
   "source": [
    "第三项，列表list。"
   ]
  },
  {
   "cell_type": "code",
   "execution_count": 14,
   "metadata": {},
   "outputs": [
    {
     "name": "stdout",
     "output_type": "stream",
     "text": [
      "type: <class 'list'>\n",
      "length 5\n",
      "Loop starts.\n",
      "0\n",
      "1\n",
      "2\n",
      "3\n",
      "4\n",
      "Loop ends.\n",
      "First 3 numbers in list: 0, 1, 2\n",
      "Update value.\n",
      "[-1, 1, 2, 100, 4]\n",
      "After append.\n",
      "[-1, 1, 2, 100, 4, 5, 6, 7]\n",
      "After delete.\n",
      "[-1, 1, 2, 100, 4, 6, 7]\n",
      "Pop out value 7.\n",
      "[-1, 1, 2, 100, 4, 6]\n",
      "Pop out value 4.\n",
      "[-1, 1, 2, 100, 6]\n",
      "Reversed.\n",
      "[6, 100, 2, 1, -1]\n",
      "After ordering.\n",
      "[-1, 1, 2, 6, 100]\n"
     ]
    }
   ],
   "source": [
    "# 创建空列表\n",
    "list_empty = []\n",
    "print('type: %s'% str(type(list_empty)))\n",
    "\n",
    "# 创建列表\n",
    "list_1 = [0, 1, 2, 3, 4]\n",
    "print('length %d'% len(list_1))\n",
    "\n",
    "# 遍历\n",
    "print('Loop starts.')\n",
    "for each in list_1:\n",
    "    print(each)\n",
    "print('Loop ends.')\n",
    "\n",
    "# 按照序号获取\n",
    "print('First 3 numbers in list: %d, %d, %d'% (list_1[0], list_1[1], list_1[2]))\n",
    "\n",
    "# 按照序号设定值\n",
    "list_1[0] = -1\n",
    "list_1[-2] = 100  # 逆序\n",
    "print('Update value.')\n",
    "print(list_1)\n",
    "\n",
    "\n",
    "\n",
    "# 在尾部增加新元素\n",
    "list_1.append(5)\n",
    "list_1.append(6)\n",
    "list_1.append(7)\n",
    "print('After append.')\n",
    "print(list_1)\n",
    "\n",
    "# 删除指定位置元素\n",
    "del list_1[5]\n",
    "print('After delete.')\n",
    "print(list_1)\n",
    "\n",
    "# 从末尾弹出元素\n",
    "item = list_1.pop()\n",
    "print('Pop out value %d.'% item)\n",
    "print(list_1)\n",
    "\n",
    "# 从指定位置弹出元素\n",
    "item = list_1.pop(4)\n",
    "print('Pop out value %d.'% item)\n",
    "print(list_1)\n",
    "\n",
    "# 反向\n",
    "list_1.reverse()\n",
    "print('Reversed.')\n",
    "print(list_1)\n",
    "\n",
    "# 排序\n",
    "list_1.sort() # sort(reverse=False)\n",
    "print('After ordering.')\n",
    "print(list_1)\n"
   ]
  },
  {
   "cell_type": "code",
   "execution_count": 13,
   "metadata": {},
   "outputs": [
    {
     "data": {
      "text/plain": [
       "[1, 2, 3, 4, 5, 6, 7, 8]"
      ]
     },
     "execution_count": 13,
     "metadata": {},
     "output_type": "execute_result"
    }
   ],
   "source": [
    "# 两个list接续\n",
    "list_1 = [1,2,3,4]\n",
    "list_2 = [5,6,7,8]\n",
    "\n",
    "list_3 = list_1 + list_2\n",
    "\n",
    "list_3"
   ]
  },
  {
   "cell_type": "markdown",
   "metadata": {},
   "source": [
    "要点\n",
    "1. 建立列表可以用“[]”。\n",
    "2. 列表也有顺序性，而且顺序非常重要。\n",
    "3. 列表可变\n",
    "\n",
    "列表一般在重视顺序的场景使用，你甚至可以利用它的自带方法一行代码实现排序。我在例子中放置的是整型，如果放的是字符串，也可以按照字符的顺序排序。那么，我能在数列里同时放置不同的类型并排序吗？"
   ]
  },
  {
   "cell_type": "code",
   "execution_count": 6,
   "metadata": {},
   "outputs": [
    {
     "name": "stdout",
     "output_type": "stream",
     "text": [
      "[9, 'a', 1]\n"
     ]
    },
    {
     "ename": "TypeError",
     "evalue": "'<' not supported between instances of 'str' and 'int'",
     "output_type": "error",
     "traceback": [
      "\u001b[0;31m---------------------------------------------------------------------------\u001b[0m",
      "\u001b[0;31mTypeError\u001b[0m                                 Traceback (most recent call last)",
      "Cell \u001b[0;32mIn[6], line 5\u001b[0m\n\u001b[1;32m      2\u001b[0m list_2 \u001b[38;5;241m=\u001b[39m [\u001b[38;5;241m9\u001b[39m, \u001b[38;5;124m'\u001b[39m\u001b[38;5;124ma\u001b[39m\u001b[38;5;124m'\u001b[39m, \u001b[38;5;241m1\u001b[39m]\n\u001b[1;32m      3\u001b[0m \u001b[38;5;28mprint\u001b[39m(list_2)\n\u001b[0;32m----> 5\u001b[0m \u001b[43mlist_2\u001b[49m\u001b[38;5;241;43m.\u001b[39;49m\u001b[43msort\u001b[49m\u001b[43m(\u001b[49m\u001b[43m)\u001b[49m\n",
      "\u001b[0;31mTypeError\u001b[0m: '<' not supported between instances of 'str' and 'int'"
     ]
    }
   ],
   "source": [
    "# 混合数据类型\n",
    "list_2 = [9, 'a', 1]\n",
    "print(list_2)\n",
    "\n",
    "list_2.sort()"
   ]
  },
  {
   "cell_type": "markdown",
   "metadata": {},
   "source": [
    "不行，不同的类型之间的比较很可能是无意义的，会报错。所以，列表中允许写入多种类型，但是不要这样做。"
   ]
  },
  {
   "cell_type": "markdown",
   "metadata": {},
   "source": [
    "列表还有两个非常神奇的用法，一个是切片，另一个是列表推倒。\n",
    "\n",
    "先说切片。既然一个列表是有序的，并且可以按照序号取值，那么我能不能一次取一个范围内的元素？这种功能叫切片。"
   ]
  },
  {
   "cell_type": "code",
   "execution_count": 5,
   "metadata": {},
   "outputs": [
    {
     "name": "stdout",
     "output_type": "stream",
     "text": [
      "[3, 4, 5, 6, 7]\n",
      "[3, 4, 5, 6, 7, 8, 9]\n",
      "[0, 1, 2, 3, 4, 5, 6, 7]\n",
      "[3, 5, 7]\n",
      "[8, 7, 6, 5, 4]\n",
      "[9, 8, 7, 6, 5, 4, 3, 2, 1, 0]\n"
     ]
    }
   ],
   "source": [
    "# 切片用法\n",
    "list_to_slice = [0, 1, 2, 3, 4, 5, 6, 7, 8, 9]\n",
    "\n",
    "print(list_to_slice[3:8])\n",
    "\n",
    "print(list_to_slice[3:])\n",
    "\n",
    "print(list_to_slice[:8])\n",
    "\n",
    "print(list_to_slice[3:8:2])\n",
    "\n",
    "print(list_to_slice[8:3:-1])\n",
    "\n",
    "print(list_to_slice[::-1])"
   ]
  },
  {
   "cell_type": "markdown",
   "metadata": {},
   "source": [
    "切片有三个参数，前两个分别是起始序号和结束序号，左闭右开区间。如果有一边没有限制可以省略。第三个参数也是可选的，叫步长。可以每两个值中只取第一个，或者每三个取一个。想想，如果这个步长为负呢？那就是从后向前取。也就是说你可以用这一招取反向输出列表。\n",
    "\n",
    "提一个问题，被切片之后，原列表有变化吗？没有。学函数时我们会体验一下这个特性的好处。\n",
    "\n",
    "这里留一个思考题。假设你要计算9个评委的评分，你需要去掉一个最低分和一个最高分，计算剩余平均分和中位数分数。\n",
    "\n",
    "列表的神奇的用法，列表推导。这个功能可以为我们轻松的创造数列。"
   ]
  },
  {
   "cell_type": "code",
   "execution_count": 12,
   "metadata": {},
   "outputs": [
    {
     "name": "stdout",
     "output_type": "stream",
     "text": [
      "[0, 1, 4, 9, 16, 25, 36, 49, 64, 81]\n",
      "[1, 9, 25, 49, 81]\n"
     ]
    }
   ],
   "source": [
    "# 列表推倒演示\n",
    "print([n **2 for n in range(10)])\n",
    "\n",
    "print([n ** 2 for n in range(10) if n%2 == 1])"
   ]
  },
  {
   "cell_type": "code",
   "execution_count": null,
   "metadata": {},
   "outputs": [],
   "source": [
    "学了列表和集合，列表有顺序，集合可以去重复。如果我有一个有重复的元组，想要去重排序，可以怎么做？"
   ]
  },
  {
   "cell_type": "code",
   "execution_count": 2,
   "metadata": {},
   "outputs": [
    {
     "name": "stdout",
     "output_type": "stream",
     "text": [
      "(0, 1, 3, 7, 8)\n"
     ]
    }
   ],
   "source": [
    "# 利用list和set去重排序\n",
    "tuple_1 = (3, 1, 1, 8, 1, 7, 0, 3)\n",
    "set_1 = set(tuple_1)\n",
    "list_1 = list(set_1)\n",
    "list_1.sort()\n",
    "tuple_1 = tuple(list_1)\n",
    "print(tuple_1)"
   ]
  },
  {
   "cell_type": "markdown",
   "metadata": {},
   "source": [
    "去重和排序成功。这个例子说明元组、列表和集合三者之间可以轻易的相互转换。但是转换是不是可能造成损失？如果列表和元组被转化成集合，重复的元素就会损失掉。\n",
    "\n",
    "最后，字典dictionary，简称dict。"
   ]
  },
  {
   "cell_type": "code",
   "execution_count": 1,
   "metadata": {},
   "outputs": [
    {
     "name": "stdout",
     "output_type": "stream",
     "text": [
      "<class 'dict'>\n",
      "tuple\n",
      "{'name': 'tuple', 'editable': False, 'sequential': True, 'desc': 'This is the description of the tuple type.'}\n",
      "Print all keys and values in method 1.\n",
      "key name, value tuple\n",
      "key editable, value False\n",
      "key sequential, value True\n",
      "key desc, value This is the description of the tuple type.\n",
      "Print all keys and values in method 2.\n",
      "key name, value tuple\n",
      "key editable, value False\n",
      "key sequential, value True\n",
      "key desc, value This is the description of the tuple type.\n"
     ]
    }
   ],
   "source": [
    "# 空字典\n",
    "dict_empty = {}\n",
    "print(type(dict_empty))\n",
    "\n",
    "# 建立字典\n",
    "dict_1 = {'name':'tuple', 'editable':False, 'sequential': True}\n",
    "\n",
    "# 获取值\n",
    "print(dict_1['name'])\n",
    "\n",
    "# 增加和更新值\n",
    "dict_1['desc'] = 'This is the description of the tuple type.'\n",
    "print(dict_1)\n",
    "\n",
    "# 遍历\n",
    "print('Print all keys and values in method 1.')\n",
    "for key, value in dict_1.items():\n",
    "    print('key %s, value %s'% (key, str(value)))\n",
    "\n",
    "print('Print all keys and values in method 2.')\n",
    "for key in dict_1.keys():\n",
    "    print('key %s, value %s'% (key, str(dict_1[key])))\n"
   ]
  },
  {
   "cell_type": "markdown",
   "metadata": {},
   "source": [
    "建立字典也是用“{}”，跟集合相同，但是你用“{}”建立的是空字典，不是空集合。与前三种类型不同，字典当中存储的不单单是值了，的所有内容会被作为键、值对，写在“:\"前面的是键（key），后面的是值。字典同样可以存储不同的类型，而且实际使用中可以这样做，因为每个键都有各自的意义。字典也有顺序，但是不能通过序号获取值，使用中也不在乎它的顺序性。字典中的值可以重复，但是键是唯一的。\n",
    "\n",
    "字典无法直接转化为元组、集合和列表，但是可以单独把它的键或者值拿出来。"
   ]
  },
  {
   "cell_type": "code",
   "execution_count": 3,
   "metadata": {},
   "outputs": [
    {
     "name": "stdout",
     "output_type": "stream",
     "text": [
      "<class 'list'>\n",
      "<class 'list'>\n"
     ]
    }
   ],
   "source": [
    "# 提取字典键、值为list\n",
    "dict_2 = {'name':'set', 'editable': True, 'sequential': False}\n",
    "print(type(list(dict_2.keys())))\n",
    "print(type(list(dict_2.values())))"
   ]
  },
  {
   "cell_type": "markdown",
   "metadata": {},
   "source": [
    "字典的键是字符串，也可以是别的。但是不建议混合使用，最好永远用字符串当作键。"
   ]
  },
  {
   "cell_type": "code",
   "execution_count": 7,
   "metadata": {},
   "outputs": [
    {
     "name": "stdout",
     "output_type": "stream",
     "text": [
      "{2: 'Add a key in int.', 'a': 'Add a key in string.', 3.14: 'Add a key in float.'}\n"
     ]
    }
   ],
   "source": [
    "dict_empty = {}\n",
    "\n",
    "dict_empty[2] = 'Add a key in int.'\n",
    "dict_empty['a'] = 'Add a key in string.'\n",
    "dict_empty[3.14] = 'Add a key in float.'\n",
    "\n",
    "print(dict_empty)"
   ]
  },
  {
   "cell_type": "markdown",
   "metadata": {},
   "source": [
    "总结一下四种复杂类型的特性。\n",
    "\n",
    "|…|元组|集合|列表|字典|\n",
    "|:-:|:-:|:-:|:-:|:-:|\n",
    "|可多类型|||||\n",
    "|可变|否||||\n",
    "|有序||否|||\n",
    "|可重复||否||否|\n",
    "|可迭代|||||\n",
    "|可散列||否|否|否|\n",
    "\n",
    "这里引入了一个新的概念“可散列”，这个问题想要完全掌握比较困难，所以先靠例子直观感受一下。"
   ]
  },
  {
   "cell_type": "code",
   "execution_count": 11,
   "metadata": {},
   "outputs": [
    {
     "ename": "TypeError",
     "evalue": "unhashable type: 'dict'",
     "output_type": "error",
     "traceback": [
      "\u001b[0;31m---------------------------------------------------------------------------\u001b[0m",
      "\u001b[0;31mTypeError\u001b[0m                                 Traceback (most recent call last)",
      "Cell \u001b[0;32mIn[11], line 13\u001b[0m\n\u001b[1;32m     10\u001b[0m tuple_of_dict \u001b[38;5;241m=\u001b[39m \u001b[38;5;28mtuple\u001b[39m(list_of_dict)\n\u001b[1;32m     12\u001b[0m \u001b[38;5;66;03m# set of dicts\u001b[39;00m\n\u001b[0;32m---> 13\u001b[0m set_of_dict \u001b[38;5;241m=\u001b[39m \u001b[38;5;28;43mset\u001b[39;49m\u001b[43m(\u001b[49m\u001b[43mlist_of_dict\u001b[49m\u001b[43m)\u001b[49m\n",
      "\u001b[0;31mTypeError\u001b[0m: unhashable type: 'dict'"
     ]
    }
   ],
   "source": [
    "dict_1 = {'name':'tuple', 'editable':False, 'sequential': True}\n",
    "dict_2 = {'name':'set', 'editable': True, 'sequential': False}\n",
    "dict_3 = {'name':'list', 'editable': True, 'sequential': True}\n",
    "dict_4 = {'name':'dict', 'editable': True, 'sequential': True}\n",
    "\n",
    "# list of dicts\n",
    "list_of_dict = [dict_1, dict_2, dict_3, dict_4]\n",
    "\n",
    "# tuple of dicts\n",
    "tuple_of_dict = tuple(list_of_dict)\n",
    "\n",
    "# set of dicts? not allowed\n",
    "set_of_dict = set(list_of_dict)\n"
   ]
  },
  {
   "cell_type": "markdown",
   "metadata": {},
   "source": [
    "前面的都成功了，到了集合发现字典不能被放入集合里面。再试试能不能把元和列表放进集合。"
   ]
  },
  {
   "cell_type": "code",
   "execution_count": 13,
   "metadata": {},
   "outputs": [
    {
     "ename": "TypeError",
     "evalue": "unhashable type: 'list'",
     "output_type": "error",
     "traceback": [
      "\u001b[0;31m---------------------------------------------------------------------------\u001b[0m",
      "\u001b[0;31mTypeError\u001b[0m                                 Traceback (most recent call last)",
      "Cell \u001b[0;32mIn[13], line 9\u001b[0m\n\u001b[1;32m      6\u001b[0m list_1 \u001b[38;5;241m=\u001b[39m [\u001b[38;5;241m1\u001b[39m, \u001b[38;5;241m2\u001b[39m, \u001b[38;5;241m3\u001b[39m, \u001b[38;5;241m4\u001b[39m]\n\u001b[1;32m      7\u001b[0m list_2 \u001b[38;5;241m=\u001b[39m [\u001b[38;5;241m5\u001b[39m, \u001b[38;5;241m6\u001b[39m, \u001b[38;5;241m7\u001b[39m, \u001b[38;5;241m8\u001b[39m]\n\u001b[0;32m----> 9\u001b[0m set_of_list \u001b[38;5;241m=\u001b[39m {list_1, list_2}\n",
      "\u001b[0;31mTypeError\u001b[0m: unhashable type: 'list'"
     ]
    }
   ],
   "source": [
    "tuple_1 = (1, 2, 3, 4)\n",
    "tuple_2 = (5, 6, 7, 8)\n",
    "\n",
    "set_of_tuple = {tuple_1, tuple_2}\n",
    "\n",
    "list_1 = [1, 2, 3, 4]\n",
    "list_2 = [5, 6, 7, 8]\n",
    "\n",
    "set_of_list = {list_1, list_2}"
   ]
  },
  {
   "cell_type": "markdown",
   "metadata": {},
   "source": [
    "列表、字典和集合本身都有一个性质，unhashable，不可散列，不能直接放在集合里，也不能作为字典的键使用。什么东西能作为集合中的元素或作为字典的键？至少记住这些：整型、字符串、浮点型、元组。随着你学习更深入，你可以制造一个能够散列的类，但是这不是课程的内容。\n",
    "\n",
    "讲列表的时候强调过它是有序的，并且我们写入数值后对内容做了排序，使用的是列表自带的*sort()*方法。那么，如果我的列表中装载的是字典，它能给字典排序吗？"
   ]
  },
  {
   "cell_type": "code",
   "execution_count": 4,
   "metadata": {},
   "outputs": [
    {
     "name": "stdout",
     "output_type": "stream",
     "text": [
      "[{'idx': 3, 'key_1': 1, 'key_2': 4}, {'idx': 5, 'key_1': 3, 'key_2': 8}, {'idx': 1, 'key_1': 5, 'key_2': 6}, {'idx': 2, 'key_1': 7, 'key_2': 2}, {'idx': 4, 'key_1': 9, 'key_2': 10}]\n",
      "[{'idx': 2, 'key_1': 7, 'key_2': 2}, {'idx': 3, 'key_1': 1, 'key_2': 4}, {'idx': 1, 'key_1': 5, 'key_2': 6}, {'idx': 5, 'key_1': 3, 'key_2': 8}, {'idx': 4, 'key_1': 9, 'key_2': 10}]\n"
     ]
    }
   ],
   "source": [
    "# 为字典排序\n",
    "dict_1 = {'idx': 1, 'key_1': 5, 'key_2': 6}\n",
    "dict_2 = {'idx': 2, 'key_1': 7, 'key_2': 2}\n",
    "dict_3 = {'idx': 3, 'key_1': 1, 'key_2': 4}\n",
    "dict_4 = {'idx': 4, 'key_1': 9, 'key_2': 10}\n",
    "dict_5 = {'idx': 5, 'key_1': 3, 'key_2': 8}\n",
    "\n",
    "list_of_dict = []\n",
    "list_of_dict.append(dict_1)\n",
    "list_of_dict.append(dict_2)\n",
    "list_of_dict.append(dict_3)\n",
    "list_of_dict.append(dict_4)\n",
    "list_of_dict.append(dict_5)\n",
    "\n",
    "list_sorted_by_key_1 = sorted(list_of_dict, key=lambda each_item: each_item['key_1'])\n",
    "print(list_sorted_by_key_1)\n",
    "list_sorted_by_key_2 = sorted(list_of_dict, key=lambda each_item: each_item['key_2'])\n",
    "print(list_sorted_by_key_2)\n"
   ]
  },
  {
   "cell_type": "markdown",
   "metadata": {},
   "source": [
    "我使用了*sorted()*函数和一个叫做*lambda*的关键字。*sorted()*比较好理解，跟列表的*sort()*函数相似。\n",
    "它可以有三个参数，必选的是可迭代对象，就是你需要排序的数据。你可以规定按照什么排序，我们的例子里*key*后面我规定了要用字典中的哪个值来当作排序的参照。最后还有一个*reverse*参数接收*True*或者*False*，默认是*False*代表升序。\n",
    "\n",
    "*lambda*需要重视。在例子中它的实际作用是把每个列表元素，也就是字典拿出来，取出其中指定值当作排序的参照。*lambda*后面是代表每个迭代过程取出对象的变量名，“:”之后是一个基于取出变量的表达式。\n",
    "\n",
    "实际上*lambda*开头的一段表达式有一个专属名称，叫做lambda函数。它是函数，一种匿名函数。你完全可以用一个函数来替代它，放在*key*后面。下一节介绍函数。\n",
    "\n",
    "---\n",
    "*课后作业*\n",
    "\n",
    "制造一个长度为30的斐波那契数列。斐波那契数列每个元素的数值是前两个元素的和。\n",
    "\n",
    "提示：列表推导的代码量最低。\n"
   ]
  },
  {
   "cell_type": "markdown",
   "metadata": {},
   "source": [
    "## 函数，一次顶一万次\n",
    "\n",
    "函数是一个逻辑归纳，它存在的意义在于你只需要建立它一次，然后不断的调用它。\n",
    "\n",
    "lambda函数应该是最短小的函数了，连函数名都没有。"
   ]
  },
  {
   "cell_type": "code",
   "execution_count": 6,
   "metadata": {},
   "outputs": [
    {
     "name": "stdout",
     "output_type": "stream",
     "text": [
      "<class 'function'>\n",
      "12.56\n"
     ]
    }
   ],
   "source": [
    "radius = 2\n",
    "area_circle_lambda = lambda r: 3.14 * r ** 2\n",
    "print(type(area_circle_lambda))\n",
    "print(area_circle_lambda(radius))"
   ]
  },
  {
   "cell_type": "markdown",
   "metadata": {},
   "source": [
    "用变量接收lambda表达式，可以看到它的类型是*function*，这个变量可以当作函数来使用。\n",
    "一般不会有人用变量接收lambda表达式当函数用。它表达能力有限，不支持*try except*语法和*while*循环，仅仅支持*if else*判断。"
   ]
  },
  {
   "cell_type": "code",
   "execution_count": 8,
   "metadata": {},
   "outputs": [
    {
     "name": "stdout",
     "output_type": "stream",
     "text": [
      "[5, 6, 7, 8, 9, 10]\n"
     ]
    }
   ],
   "source": [
    "# lambda使用if条件示例\n",
    "\n",
    "list_1 = [1, 2, 3, 4, 5, 6, 7, 8, 9, 10]\n",
    "list_2 = list(filter(lambda each: False if each < 5 else True, list_1))\n",
    "print(list_2)"
   ]
  },
  {
   "cell_type": "markdown",
   "metadata": {},
   "source": [
    "注意这里的返回值*False*和*True*的位置，*if*条件成立时返回的是前面的*False*，否则才是*else*后面的*True*。\n",
    "\n",
    "一般使用lambda函数都是为了简化代码。但是需要实现的逻辑比较复杂的时候，那么还是需要一般函数。"
   ]
  },
  {
   "cell_type": "code",
   "execution_count": 2,
   "metadata": {},
   "outputs": [
    {
     "name": "stdout",
     "output_type": "stream",
     "text": [
      "Start to calculate.\n",
      "Calculation ended.\n"
     ]
    }
   ],
   "source": [
    "# 建立一个单纯的函数\n",
    "def calculate_sth():\n",
    "    '''\n",
    "    This is a function to do some calculations.\n",
    "    '''\n",
    "    print('Start to calculate.')\n",
    "    print('Calculation ended.')\n",
    "\n",
    "# 调用\n",
    "calculate_sth()"
   ]
  },
  {
   "cell_type": "markdown",
   "metadata": {},
   "source": [
    "*def*加函数名，加参数，最后“:”。下一行不要着急开始代码，用连续三个引号标记注释，这是一种约定俗成的方式。如果你不是在Jupyter上，而在使用Idea，那么你在这里的注释就可以被显示在鼠标在函数的悬停信息上。换行缩进之后就是函数的内容。函数名的命名规则可以参考变量命名规则，在英语语法上建议“do_something”表示函数是一种动作。\n",
    "\n",
    "接下来我们要带着一些问题再继续。\n",
    "\n",
    "* 第一，函数可以不带有输入参数，但是这样意义不大。能不能带有参数？能不能有不确定个数的参数？参数需要规定数据类型吗？\n",
    "\n",
    "* 第二，函数可以不返回结果，但怎么返回一个值做为结果？怎么返回多个值做为结果？\n",
    "\n",
    "* 第三，函数中对输入参数的改动会影响函数外吗？\n",
    "\n",
    "* 最后，是否可以建两个名称相同的函数？\n",
    "\n",
    "从下面的例子中找答案。\n"
   ]
  },
  {
   "cell_type": "code",
   "execution_count": 4,
   "metadata": {},
   "outputs": [
    {
     "name": "stdout",
     "output_type": "stream",
     "text": [
      "Start to calculate.\n",
      "Start to calculate.\n",
      "Result 1: 15.00, Result 2: 10.00\n"
     ]
    }
   ],
   "source": [
    "# 有输入参数和返回值的函数\n",
    "def calculate_rectangle_area(length, width):\n",
    "    '''\n",
    "    Calculate the area of a rectangle.\n",
    "    '''\n",
    "    print('Start to calculate.')\n",
    "    return length * width\n",
    "    print('Calculation ended.') # 这一部分不会被执行\n",
    "\n",
    "result_1 = calculate_rectangle_area(3, 5)\n",
    "result_2 = calculate_rectangle_area(4, 2.5)\n",
    "print('Result 1: %.2f, Result 2: %.2f'% (result_1, result_2))\n"
   ]
  },
  {
   "cell_type": "markdown",
   "metadata": {},
   "source": [
    "矩形的长和宽两个输入参数加在函数名后面的括号中。返回值是面积，放在*return*关键字后面。为什么没有打印'Calculation ended.'？因为此时函数已经结束了，函数不再继续。所以，如果你想保证函数中的逻辑执行，就必须保证它在*return*之前执行。"
   ]
  },
  {
   "cell_type": "code",
   "execution_count": 1,
   "metadata": {},
   "outputs": [
    {
     "name": "stdout",
     "output_type": "stream",
     "text": [
      "Start to calculate.\n",
      "Calculation ended.\n",
      "2\n"
     ]
    }
   ],
   "source": [
    "def calculate_rectangle_area(length, width):\n",
    "    '''\n",
    "    Calculate the area of a rectangle.\n",
    "    '''\n",
    "    print('Start to calculate.')\n",
    "    area = length * width\n",
    "    print('Calculation ended.') # 能够执行\n",
    "    return area\n",
    "\n",
    "print(calculate_rectangle_area(1, 2))"
   ]
  },
  {
   "cell_type": "markdown",
   "metadata": {},
   "source": [
    "继续演进这个函数。"
   ]
  },
  {
   "cell_type": "code",
   "execution_count": 1,
   "metadata": {},
   "outputs": [
    {
     "name": "stdout",
     "output_type": "stream",
     "text": [
      "Start to calculate.\n",
      "length: 3.00, width: 3.00\n",
      "Calculation ended.\n",
      "Start to calculate.\n",
      "length: 2.00, width: 3.14\n",
      "Calculation ended.\n",
      "Result 1: 9.00, 12.00; Result 2: 6.28, 10.28\n",
      "Start to calculate.\n",
      "length: 1.00, width: 2.00\n",
      "Calculation ended.\n",
      "<class 'tuple'>\n"
     ]
    }
   ],
   "source": [
    "def cal_rct_area_perimeter(length:int, width:int = -1):\n",
    "    '''\n",
    "    Calculate the area and the perimeter of a rectangle.\n",
    "    If only one parameter is given, this shape will be considered as a square.\n",
    "    '''\n",
    "    print('Start to calculate.')\n",
    "    if width == -1:\n",
    "        width = length\n",
    "\n",
    "    print('length: %.2f, width: %.2f'% (length, width))\n",
    "    area = length * width\n",
    "    perimeter = (length + width) * 2\n",
    "    print('Calculation ended.')\n",
    "    return area, perimeter\n",
    "\n",
    "result_1_area, result_1_perimeter = cal_rct_area_perimeter(3)\n",
    "result_2_area, result_2_perimeter = cal_rct_area_perimeter(width=3.1415926, length=2)\n",
    "print('Result 1: %.2f, %.2f; Result 2: %.2f, %.2f'% (result_1_area,  result_1_perimeter, result_2_area, result_2_perimeter))\n",
    "\n",
    "result_3 = cal_rct_area_perimeter(1, 2)\n",
    "print(type(result_3))"
   ]
  },
  {
   "cell_type": "markdown",
   "metadata": {},
   "source": [
    "首先，我加入了输入参数的类型标注。但是注意我在调用时给了一个小数做参数。这说明Python函数的参数与一般变量一样。开发者的标注并不决定它的类型，那么标注也仅仅是一个提示而已。\n",
    "\n",
    "其次，输入参数设为可选的，如果输入两个，那么就分别是长和宽。如果只有一个输入，那么就把它当作正方形来计算。这里我给参数*width*规定了默认值-1，当然这是不合理的。如果遇到了就认为调用时并没有提供这个参数，就认为第二个参数缺失。\n",
    "\n",
    "还有，调用函数时可以按照参数名来指定参数值，这样的话可以不按照参数顺序。\n",
    "\n",
    "最后，*return*关键字后面我加了两个返回值。你可以就把它当成两个按顺序排列的值。但是它的本质是元组，元组的特性是有序、元素类型不限并且不可更改。函数传递返回值才是元组最大的用处。\n",
    "\n"
   ]
  },
  {
   "cell_type": "markdown",
   "metadata": {},
   "source": [
    "能不能让函数更灵活一点儿，让它能接收更多参数？可以。\"\\*\\*\"符号表示接收所有关键字参数。也可以理解为“\\*\\*”后面的那个参数是一个字典。"
   ]
  },
  {
   "cell_type": "code",
   "execution_count": 1,
   "metadata": {},
   "outputs": [
    {
     "name": "stdout",
     "output_type": "stream",
     "text": [
      "Start to calculate.\n",
      "length: 2.00, width: 3.14\n",
      "Calculation ended.\n",
      "Result 2: 6.28, 10.28\n"
     ]
    }
   ],
   "source": [
    "def cal_rct_area_perimeter(**kwarg):\n",
    "    '''\n",
    "    Calculate the area and the perimeter of a rectangle.\n",
    "    Expecting 2 keyword parameters, length and width.\n",
    "    '''\n",
    "    print('Start to calculate.')\n",
    "    length = kwarg['length']\n",
    "    width = kwarg['width']\n",
    "\n",
    "    print('length: %.2f, width: %.2f'% (length, width))\n",
    "    area = length * width\n",
    "    perimeter = (length + width) * 2\n",
    "    print('Calculation ended.')\n",
    "    return area, perimeter\n",
    "\n",
    "result_2_area, result_2_perimeter = cal_rct_area_perimeter(width=3.1415926, length=2)\n",
    "print('Result 2: %.2f, %.2f'% (result_2_area, result_2_perimeter))\n"
   ]
  },
  {
   "cell_type": "markdown",
   "metadata": {},
   "source": [
    "还有一种情况，假设你想计算一组数值的和，但是有多数值不知道。有个方法是每次把数值都装进一个列表里，交给函数。还有一个用函数解决的办法。"
   ]
  },
  {
   "cell_type": "code",
   "execution_count": 1,
   "metadata": {},
   "outputs": [
    {
     "name": "stdout",
     "output_type": "stream",
     "text": [
      "6\n",
      "23\n"
     ]
    }
   ],
   "source": [
    "def sum_all(*args):\n",
    "    result = 0\n",
    "    for each in args:\n",
    "        result += each\n",
    "    return result\n",
    "\n",
    "print(sum_all(2, 4))\n",
    "print(sum_all(3, 5, 7, 8))"
   ]
  },
  {
   "cell_type": "markdown",
   "metadata": {},
   "source": [
    "函数的用法介绍完了，但是如果下面的部分不讲，你使用中非常有可能在相似的用法里出错。"
   ]
  },
  {
   "cell_type": "code",
   "execution_count": 3,
   "metadata": {},
   "outputs": [
    {
     "name": "stdout",
     "output_type": "stream",
     "text": [
      "[1, 2, 3, 4]\n",
      "{1, 2, 3, 4}\n",
      "{'key1': 1, 'key2': 2, 'key3': 3, 'newkey': 4}\n"
     ]
    }
   ],
   "source": [
    "list_input = [1, 2, 3]\n",
    "set_input = {1, 2, 3}\n",
    "dict_input = {'key1':1, 'key2':2, 'key3':3}\n",
    "\n",
    "\n",
    "\n",
    "\n",
    "def add_to_list_set_dict(ori_list, ori_set, ori_dict, item):\n",
    "    '''\n",
    "    Add item to the list, set and dict.\n",
    "    '''\n",
    "    ori_list.append(item)\n",
    "    ori_set.add(item)\n",
    "    ori_dict['newkey'] = item\n",
    "\n",
    "\n",
    "add_to_list_set_dict(list_input, set_input, dict_input, 4)\n",
    "print(list_input)\n",
    "print(set_input)\n",
    "print(dict_input)"
   ]
  },
  {
   "cell_type": "markdown",
   "metadata": {},
   "source": [
    "我们把一个整数列作为参数放进了函数里，函数没有任何返回值，但是函数执行过后函数外的数列有了变化。"
   ]
  },
  {
   "cell_type": "code",
   "execution_count": 1,
   "metadata": {},
   "outputs": [
    {
     "name": "stdout",
     "output_type": "stream",
     "text": [
      "1\n",
      "1\n"
     ]
    }
   ],
   "source": [
    "int_input = 1\n",
    "\n",
    "def add_1_to_input(int_input):\n",
    "    int_input += 1\n",
    "\n",
    "print(int_input)\n",
    "add_1_to_input(int_input)\n",
    "print(int_input)"
   ]
  },
  {
   "cell_type": "markdown",
   "metadata": {},
   "source": [
    "与上一个例子相反，一个整数作为输入参数交给函数，我甚至把函数中的参数名都写成了同一个，但是这个整型变量在函数执行过后没有在函数外有任何变化。难道输入参数的类型还会决定它在函数内的变化会带出到函数外吗？会。这里非常容易犯错误。"
   ]
  },
  {
   "cell_type": "markdown",
   "metadata": {},
   "source": [
    "可以先记住，集合、列表和字典在函数中的改动会被带到函数外。为了避免问题，可以选择在函数中重建这些类型的参数然后再做别的操作。或者拿来调用过函数的变量都不再使用，也可以避免问题。如果想要更深入的理解到底发生了什么，可以借助C++指针的概念。如果是集合、列表和字典，那么真正传入函数的是它们的指针，这个指针仍然指向它们在内存中的地址，于是函数内对它们的操作真正改变了内存。之后函数外再访问相同的地址就会发现它们已经改变了。\n",
    "\n",
    "回忆一下切片的特性，它不影响原有列表，而是建立一个新的列表。就用它来复制一个新的列表。新的列表的改变就没有影响到输入参数列表。"
   ]
  },
  {
   "cell_type": "code",
   "execution_count": 2,
   "metadata": {},
   "outputs": [
    {
     "name": "stdout",
     "output_type": "stream",
     "text": [
      "[1, 2, 3]\n",
      "[1, 2, 3]\n"
     ]
    }
   ],
   "source": [
    "list_input = [1, 2, 3]\n",
    "\n",
    "def add_to_list(ori_list, item):\n",
    "    '''\n",
    "    Add item to the list.\n",
    "    '''\n",
    "    new_list = ori_list[:]\n",
    "    new_list.append(item)\n",
    "\n",
    "\n",
    "print(list_input)\n",
    "\n",
    "add_to_list(list_input, 4)\n",
    "print(list_input)"
   ]
  },
  {
   "cell_type": "code",
   "execution_count": null,
   "metadata": {},
   "outputs": [],
   "source": [
    "或者调用时就复制。"
   ]
  },
  {
   "cell_type": "code",
   "execution_count": 1,
   "metadata": {},
   "outputs": [
    {
     "ename": "SyntaxError",
     "evalue": "invalid syntax (338080913.py, line 3)",
     "output_type": "error",
     "traceback": [
      "\u001b[0;36m  Cell \u001b[0;32mIn[1], line 3\u001b[0;36m\u001b[0m\n\u001b[0;31m    def add_to_list(ori_list[:], item):\u001b[0m\n\u001b[0m                            ^\u001b[0m\n\u001b[0;31mSyntaxError\u001b[0m\u001b[0;31m:\u001b[0m invalid syntax\n"
     ]
    }
   ],
   "source": [
    "list_input = [1, 2, 3]\n",
    "\n",
    "def add_to_list(ori_list, item):\n",
    "    '''\n",
    "    Add item to the list.\n",
    "    '''\n",
    "    ori_list.append(item)\n",
    "\n",
    "\n",
    "print(list_input)\n",
    "\n",
    "add_to_list(list_input[:], 4)\n",
    "print(list_input)"
   ]
  },
  {
   "cell_type": "markdown",
   "metadata": {},
   "source": [
    "*copy\\(\\)*函数也可以实现这个功能。"
   ]
  },
  {
   "cell_type": "code",
   "execution_count": 3,
   "metadata": {},
   "outputs": [
    {
     "name": "stdout",
     "output_type": "stream",
     "text": [
      "[1, 2, 3]\n",
      "[1, 2, 3]\n"
     ]
    }
   ],
   "source": [
    "list_input = [1, 2, 3]\n",
    "\n",
    "def add_to_list(ori_list, item):\n",
    "    '''\n",
    "    Add item to the list.\n",
    "    '''\n",
    "    new_list = ori_list.copy()\n",
    "    new_list.append(item)\n",
    "\n",
    "print(list_input)\n",
    "\n",
    "add_to_list(list_input, 4)\n",
    "print(list_input)"
   ]
  },
  {
   "cell_type": "markdown",
   "metadata": {},
   "source": [
    "照顾一下学过Java的人。同一个模块下，不同函数能使用相同函数名吗？Java允许这样做。Python并不支持同名函数。"
   ]
  },
  {
   "cell_type": "code",
   "execution_count": 1,
   "metadata": {},
   "outputs": [
    {
     "ename": "TypeError",
     "evalue": "try_same_name() missing 1 required positional argument: 'peremeter'",
     "output_type": "error",
     "traceback": [
      "\u001b[0;31m---------------------------------------------------------------------------\u001b[0m",
      "\u001b[0;31mTypeError\u001b[0m                                 Traceback (most recent call last)",
      "Cell \u001b[0;32mIn[1], line 7\u001b[0m\n\u001b[1;32m      4\u001b[0m \u001b[38;5;28;01mdef\u001b[39;00m \u001b[38;5;21mtry_same_name\u001b[39m(peremeter):\n\u001b[1;32m      5\u001b[0m     \u001b[38;5;28mprint\u001b[39m(\u001b[38;5;124m'\u001b[39m\u001b[38;5;124mFunction 2 executed.\u001b[39m\u001b[38;5;124m'\u001b[39m)\n\u001b[0;32m----> 7\u001b[0m \u001b[43mtry_same_name\u001b[49m\u001b[43m(\u001b[49m\u001b[43m)\u001b[49m\n",
      "\u001b[0;31mTypeError\u001b[0m: try_same_name() missing 1 required positional argument: 'peremeter'"
     ]
    }
   ],
   "source": [
    "def try_same_name():\n",
    "    print('Function 1 executed.')\n",
    "\n",
    "def try_same_name(peremeter):\n",
    "    print('Function 2 executed.')\n",
    "\n",
    "try_same_name()\n"
   ]
  },
  {
   "cell_type": "markdown",
   "metadata": {},
   "source": [
    "如果你需要让一个函数适应不同的输入参数组合，那么你可能需要设计一下怎样根据不同的参数来执行不同的逻辑。\n",
    "\n",
    "为了预备数据处理部分的内容，需要在函数的部分介绍一个有难度的内容，高阶函数。所谓“高阶”，指的是函数会以函数为输入或输出。我们只需要掌握三种以函数为输入的高阶函数，*sorted\\(\\)*、*filter\\(\\)*和*map\\(\\)*.\n",
    "\n",
    "之前的排序功能已经用到了*sorted\\(\\)*，三个参数里第二个参数是可选参数排序参照键，当时我们放了一个lambda函数来为字典排序。\n",
    "\n"
   ]
  },
  {
   "cell_type": "code",
   "execution_count": null,
   "metadata": {},
   "outputs": [],
   "source": [
    "# 回顾：为字典排序\n",
    "dict_1 = {'idx': 1, 'key_1': 5, 'key_2': 6}\n",
    "dict_2 = {'idx': 2, 'key_1': 7, 'key_2': 2}\n",
    "dict_3 = {'idx': 3, 'key_1': 1, 'key_2': 4}\n",
    "dict_4 = {'idx': 4, 'key_1': 9, 'key_2': 10}\n",
    "dict_5 = {'idx': 5, 'key_1': 3, 'key_2': 8}\n",
    "\n",
    "list_of_dict = []\n",
    "list_of_dict.append(dict_1)\n",
    "list_of_dict.append(dict_2)\n",
    "list_of_dict.append(dict_3)\n",
    "list_of_dict.append(dict_4)\n",
    "list_of_dict.append(dict_5)\n",
    "\n",
    "list_sorted_by_key_1 = sorted(list_of_dict, key=lambda each_item: each_item['key_1'])\n",
    "print(list_sorted_by_key_1)\n",
    "list_sorted_by_key_2 = sorted(list_of_dict, key=lambda each_item: each_item['key_2'])\n",
    "print(list_sorted_by_key_2)\n"
   ]
  },
  {
   "cell_type": "markdown",
   "metadata": {},
   "source": [
    "如果我想要放一个更复杂的函数呢？比如我想要按照*key_1*和*key_2*的一个复杂判断来作为key。"
   ]
  },
  {
   "cell_type": "code",
   "execution_count": 3,
   "metadata": {},
   "outputs": [
    {
     "name": "stdout",
     "output_type": "stream",
     "text": [
      "[{'idx': 5, 'key_1': 3, 'key_2': 8}, {'idx': 3, 'key_1': 1, 'key_2': 4}, {'idx': 1, 'key_1': 5, 'key_2': 6}, {'idx': 4, 'key_1': 9, 'key_2': 10}, {'idx': 2, 'key_1': 7, 'key_2': 2}]\n"
     ]
    }
   ],
   "source": [
    "# 一般函数作为key示例\n",
    "dict_1 = {'idx': 1, 'key_1': 5, 'key_2': 6}\n",
    "dict_2 = {'idx': 2, 'key_1': 7, 'key_2': 2}\n",
    "dict_3 = {'idx': 3, 'key_1': 1, 'key_2': 4}\n",
    "dict_4 = {'idx': 4, 'key_1': 9, 'key_2': 10}\n",
    "dict_5 = {'idx': 5, 'key_1': 3, 'key_2': 8}\n",
    "\n",
    "list_of_dict = []\n",
    "list_of_dict.append(dict_1)\n",
    "list_of_dict.append(dict_2)\n",
    "list_of_dict.append(dict_3)\n",
    "list_of_dict.append(dict_4)\n",
    "list_of_dict.append(dict_5)\n",
    "\n",
    "# 建立一般函数，用到match case\n",
    "def get_sort_key(input_dict):\n",
    "    '''\n",
    "    Provide a key for sort according to key_1 and key_2 on the input dict.\n",
    "    '''\n",
    "    match (input_dict['key_1'], input_dict['key_2']):\n",
    "        case (1, key_2):\n",
    "            return key_2\n",
    "        case (key_1, 2):\n",
    "            return key_1 ** 2\n",
    "        case _:\n",
    "            return input_dict['key_1']\n",
    "\n",
    "list_sorted_by_func = sorted(list_of_dict, key=get_sort_key)\n",
    "print(list_sorted_by_func)"
   ]
  },
  {
   "cell_type": "markdown",
   "metadata": {},
   "source": [
    "*sorted\\(\\)*作为高阶函数把列表*list_of_dict*中的每个元素给了一般函数*get_sort_key*来取得每个排序参照。\n",
    "\n",
    "*filter\\(\\)* 的作用是按照函数判断是否需要过滤掉元素，所以它的输入函数必须有布尔型返回值。为了简便，还是尽量用lambda表达式。"
   ]
  },
  {
   "cell_type": "code",
   "execution_count": 10,
   "metadata": {},
   "outputs": [
    {
     "data": {
      "text/plain": [
       "[1, 3, 5, 7, 9]"
      ]
     },
     "execution_count": 10,
     "metadata": {},
     "output_type": "execute_result"
    }
   ],
   "source": [
    "# filter用法示例\n",
    "list(filter(lambda n: n%2 == 1, range(10)))"
   ]
  },
  {
   "cell_type": "markdown",
   "metadata": {},
   "source": [
    "*map\\(\\)*函数会将输入可迭代对象中的每个元素都交给函数，然后收集结果。"
   ]
  },
  {
   "cell_type": "code",
   "execution_count": 11,
   "metadata": {},
   "outputs": [
    {
     "data": {
      "text/plain": [
       "[0, 1, 4, 9, 16]"
      ]
     },
     "execution_count": 11,
     "metadata": {},
     "output_type": "execute_result"
    }
   ],
   "source": [
    "# map使用示例\n",
    "list(map(lambda n : n ** 2, range(5)))"
   ]
  },
  {
   "cell_type": "markdown",
   "metadata": {},
   "source": [
    "其实*map\\(\\)*和*filter\\(\\)*的功能可以轻易被**列表推导**取代。"
   ]
  },
  {
   "cell_type": "code",
   "execution_count": 16,
   "metadata": {},
   "outputs": [
    {
     "name": "stdout",
     "output_type": "stream",
     "text": [
      "[1, 3, 5, 7, 9]\n",
      "[0, 1, 4, 9, 16]\n"
     ]
    }
   ],
   "source": [
    "# 替代fildter()\n",
    "print([n for n in range(10) if n%2 == 1])\n",
    "\n",
    "# 替代map()\n",
    "print([n ** 2 for n in range(5)])"
   ]
  },
  {
   "cell_type": "markdown",
   "metadata": {},
   "source": [
    "它们还是有很大用处，因为这些高阶函数可以大大降低代码量。在使用Numpy和Pandas处理维度更高的数据时去写循环是非常麻烦的，所以这种高阶函数会受到欢迎。\n",
    "\n",
    "---\n",
    "*课后作业*\n",
    "\n",
    "有一个含有任意个元素的列表，以所有可能的顺序打印其中的元素。尽量使用更少的代码。\n",
    "\n",
    "提示： 使用函数对列表和子集进行递归。\n"
   ]
  },
  {
   "cell_type": "markdown",
   "metadata": {},
   "source": [
    "## 类，生万物\n",
    "\n",
    "如果你已经学过Java或者C++，对于面向对象编程非常熟悉，可以跳过下面这段。\n",
    "\n",
    "类是程序对现实事物的表述，可以认为是对事物共性的归纳。就拿前面的长方形例子，所有的矩形有长和宽两个属性，需要计算周长和面积，那么我们就可以建立类一个类来代表矩形，其中包含两个属性和求周长面积的两个方法。在类里面函数称为方法。为什么需要类这样一个东西？从编码的角度讲它是一种简化，我们不希望面对一大堆杂乱无章的值和函数，而是希望看到包含它们的类，数量更少，关系更明确。还有，类可以反映出事物间的关系。正方形可以看作是矩形的特例，在代码上可以让正方形类继承矩形类来反映现实世界的几何范畴。总之，有了类的概念，就可以实现面向对象编程，操作事物对象而不是过程。\n",
    "\n",
    "上代码，看看怎样建立类。从这一部分开始我就不再保证每个代码块可以独立运行，有些依赖于前面代码块的内容我会标明。"
   ]
  },
  {
   "cell_type": "code",
   "execution_count": 1,
   "metadata": {},
   "outputs": [],
   "source": [
    "# 矩形类 第一版\n",
    "class Rectangle:\n",
    "    '''\n",
    "    Rectangle class.\n",
    "    '''\n",
    "    def __init__(self, length, width):\n",
    "        self.length = length\n",
    "        self.width = width\n",
    "        print('Initiated.')\n",
    "\n",
    "    def get_perimeter(self):\n",
    "        '''\n",
    "        Get the perimeter.\n",
    "        '''\n",
    "        return (self.length + self.width) * 2\n",
    "\n",
    "    def get_area(self):\n",
    "        '''\n",
    "        Get the area.\n",
    "        '''\n",
    "        return self.length * self.width\n"
   ]
  },
  {
   "cell_type": "markdown",
   "metadata": {},
   "source": [
    "*class*关键字标志是建立类。既然类代表事物，那么类的名称应该是个名词或者名词词组。为了与函数或者变量名区别，建议用大写字母开头，词组的话每个单词开头用大写字母。\n",
    "\n",
    "创建类下面都是方法，统一缩进一格。这里面有一个特殊方法*\\_\\_init\\_\\_*，算是我们需要写的唯一的以两个下划线开头的特殊方法，名称是固定的。我们叫它构造函数。它并不会被直接调用，创建类的实例时会默认调用它。这个特殊方法需要长和宽两个参数。多出来一个*self*可以认为是默认参数，它的意义在于加入类本身作为参数。\n",
    "\n",
    "余下的两个函数就是计算面积和周长的，并没有要求其他的输入参数，而是使用*self*取得长宽。\n",
    "\n",
    "类创建完毕后一般需要创建类的实例来使用。做个类比，如果说电脑是一个类，那么你在用的这台电脑就是一个类的实例。世界上有非常多的电脑，它们都是电脑的实例，它们之间有大量区别，但是他们都属于电脑类。\n"
   ]
  },
  {
   "cell_type": "code",
   "execution_count": 2,
   "metadata": {},
   "outputs": [
    {
     "name": "stdout",
     "output_type": "stream",
     "text": [
      "Initiated.\n",
      "Rectangle has perimeter 18.00 and area 20.00.\n"
     ]
    }
   ],
   "source": [
    "# 请先执行 矩形类 第一版\n",
    "rec_1 = Rectangle(4, 5)\n",
    "print('Rectangle has perimeter %.2f and area %.2f.'% (rec_1.get_perimeter(), rec_1.get_area()))"
   ]
  },
  {
   "cell_type": "markdown",
   "metadata": {},
   "source": [
    "调用过程当中根本没有出现过*self*，所以它并不是真正的输入参数。构建一个矩形实例时，看到了”Initiated”，证明特殊方法被调用。\n",
    "\n",
    "在介绍函数时提过输入参数上的各种花样，包括默认值、参数关键字、类型提示和不定数量参数的接收，因为类当中所有方法都是函数。\n",
    "\n",
    "来看一个细节。如果你建立的类之后不想轻易改动，比如刚刚建的4*5的矩形，你想保证只要这个矩形实例创建出来了就不想改动，应该怎样保证？可以让一些属性私有。来改造一下。"
   ]
  },
  {
   "cell_type": "code",
   "execution_count": 7,
   "metadata": {},
   "outputs": [],
   "source": [
    "# 矩形类 第二版\n",
    "class Rectangle:\n",
    "    '''\n",
    "    Rectangle class.\n",
    "    '''\n",
    "    def __init__(self, length, width, remark=None):\n",
    "        self.__length = length\n",
    "        self.__width = width\n",
    "        self.remark = remark\n",
    "        print('Initiated.')\n",
    "\n",
    "    def get_perimeter(self):\n",
    "        '''\n",
    "        Get the perimeter.\n",
    "        '''\n",
    "        return (self.__length + self.__width) * 2\n",
    "\n",
    "    def get_area(self):\n",
    "        '''\n",
    "        Get the area.\n",
    "        '''\n",
    "        return self.__length * self.__width\n",
    "        \n",
    "    def get_length_width(self):\n",
    "        return self.__length, self.__width\n",
    "\n"
   ]
  },
  {
   "cell_type": "code",
   "execution_count": 5,
   "metadata": {},
   "outputs": [
    {
     "name": "stdout",
     "output_type": "stream",
     "text": [
      "Initiated.\n",
      "This remark should be visible.\n",
      "(4, 5)\n"
     ]
    },
    {
     "ename": "AttributeError",
     "evalue": "'Rectangle' object has no attribute '__length'",
     "output_type": "error",
     "traceback": [
      "\u001b[0;31m---------------------------------------------------------------------------\u001b[0m",
      "\u001b[0;31mAttributeError\u001b[0m                            Traceback (most recent call last)",
      "Cell \u001b[0;32mIn[5], line 5\u001b[0m\n\u001b[1;32m      3\u001b[0m \u001b[38;5;28mprint\u001b[39m(rec_2\u001b[38;5;241m.\u001b[39mremark)\n\u001b[1;32m      4\u001b[0m \u001b[38;5;28mprint\u001b[39m(rec_2\u001b[38;5;241m.\u001b[39mget_length_width())\n\u001b[0;32m----> 5\u001b[0m \u001b[38;5;28mprint\u001b[39m(\u001b[43mrec_2\u001b[49m\u001b[38;5;241;43m.\u001b[39;49m\u001b[43m__length\u001b[49m)\n",
      "\u001b[0;31mAttributeError\u001b[0m: 'Rectangle' object has no attribute '__length'"
     ]
    }
   ],
   "source": [
    "# 需要先执行 矩形类 第二版\n",
    "rec_2 = Rectangle(4, 5, 'This remark should be visible.')\n",
    "print(rec_2.remark)\n",
    "print(rec_2.get_length_width())\n",
    "print(rec_2.__length)\n"
   ]
  },
  {
   "cell_type": "markdown",
   "metadata": {},
   "source": [
    "在*self*下的变量名前面加入两个下划线相当于把它设定为私有属性，不能直接访问实例的这个属性相比之下没有加下划线的变量就可以从外部直接获取，或者我专门建立一个函数来获得两个属性。\n",
    "\n",
    "现在要开始体会类最有魅力的部分，继承。我们就以正方形类举例。正方形属于矩形，所以它可以继承矩形类。这时矩形被称为父类，正方形为自类。"
   ]
  },
  {
   "cell_type": "code",
   "execution_count": 8,
   "metadata": {},
   "outputs": [],
   "source": [
    "# 正方形类 第一版\n",
    "# 需要先执行 矩形类 第二版\n",
    "class Square(Rectangle):\n",
    "    def __init__(self, length):\n",
    "        # super()代表父类\n",
    "        super().__init__(length, length)\n"
   ]
  },
  {
   "cell_type": "markdown",
   "metadata": {},
   "source": [
    "在类名后面的括号里加入其他类名就表明要继承这个类。方形继承了矩形，它将拥有矩形所有的方法，所以只需要重写它的构建函数就好了。\n"
   ]
  },
  {
   "cell_type": "code",
   "execution_count": 10,
   "metadata": {},
   "outputs": [
    {
     "name": "stdout",
     "output_type": "stream",
     "text": [
      "Initiated.\n",
      "Square has perimeter 16.00 and area 16.00.\n"
     ]
    }
   ],
   "source": [
    "# 需要先执行 矩形类 第二版\n",
    "# 需要先执行 正方形类 第一版\n",
    "square_1 = Square(4)\n",
    "print('Square has perimeter %.2f and area %.2f.'% (square_1.get_perimeter(), square_1.get_area()))"
   ]
  },
  {
   "cell_type": "markdown",
   "metadata": {},
   "source": [
    "继承关系在Python中没有什么限制。Java中禁止一个类同时继承多个类，但是Python中允许。如果你有一天真的要真么做，那么一定要注意多个父类间有没有同名函数。子类会继承父类的方法，如果有那么它们之间到底哪个会起作用？研究这样的问题收益不大，所以尽量避免。"
   ]
  },
  {
   "cell_type": "markdown",
   "metadata": {},
   "source": [
    "做个练习来巩固一下全面学的一些知识。随意建4个矩形，让它们按照面积从小到大排序，然后按照这个顺序输出周长。"
   ]
  },
  {
   "cell_type": "code",
   "execution_count": 9,
   "metadata": {},
   "outputs": [
    {
     "name": "stdout",
     "output_type": "stream",
     "text": [
      "Initiated.\n",
      "Initiated.\n",
      "Initiated.\n",
      "Initiated.\n",
      "18\n",
      "16\n",
      "18\n",
      "20\n"
     ]
    }
   ],
   "source": [
    "# 需要先执行 矩形类 第二版\n",
    "# 需要先执行 正方形类 第一版\n",
    "\n",
    "rec_1 = Rectangle(2, 7)\n",
    "rec_2 = Rectangle(3, 6)\n",
    "rec_3 = Square(4)\n",
    "rec_4 = Square(5)\n",
    "\n",
    "list_of_rec = [rec_1, rec_2, rec_3, rec_4]\n",
    "\n",
    "list_sorted = sorted(list_of_rec, key=lambda rec: rec.get_area())\n",
    "for rec in list_sorted:\n",
    "    print(rec.get_perimeter())\n"
   ]
  },
  {
   "cell_type": "markdown",
   "metadata": {},
   "source": [
    "完，接第三部分。"
   ]
  }
 ],
 "metadata": {
  "kernelspec": {
   "display_name": "Python 3 (ipykernel)",
   "language": "python",
   "name": "python3"
  },
  "language_info": {
   "codemirror_mode": {
    "name": "ipython",
    "version": 3
   },
   "file_extension": ".py",
   "mimetype": "text/x-python",
   "name": "python",
   "nbconvert_exporter": "python",
   "pygments_lexer": "ipython3",
   "version": "3.11.5"
  }
 },
 "nbformat": 4,
 "nbformat_minor": 4
}
